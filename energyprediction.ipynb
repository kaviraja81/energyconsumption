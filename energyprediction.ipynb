{
 "cells": [
  {
   "cell_type": "code",
   "execution_count": 59,
   "metadata": {},
   "outputs": [],
   "source": [
    "import pandas as pd\n",
    "import numpy as np \n",
    "import matplotlib.pyplot as plt\n",
    "import matplotlib.colors as mcolors\n",
    "\n",
    " \n",
    "from sklearn.metrics import mean_squared_error,r2_score\n",
    "from sklearn.linear_model  import Ridge,Lasso,RidgeCV, LassoCV, ElasticNet, ElasticNetCV, LinearRegression\n",
    "from sklearn.ensemble import RandomForestRegressor\n",
    "from sklearn.tree import DecisionTreeRegressor\n",
    "from sklearn.preprocessing import PolynomialFeatures\n",
    "from sklearn.preprocessing import StandardScaler \n",
    "\n",
    "import seaborn as sns\n",
    "import os \n",
    "import math"
   ]
  },
  {
   "cell_type": "code",
   "execution_count": 60,
   "metadata": {},
   "outputs": [],
   "source": [
    "basepath='./enexis'\n",
    "\n",
    "def loaddata(service_prov,folder):\n",
    "    l1=[]\n",
    "    subfolder=os.path.join(basepath,service_prov,folder)\n",
    "    print(subfolder)\n",
    "    for file in os.listdir(subfolder): \n",
    "        filedf=pd.read_csv(os.path.join(subfolder,file))\n",
    "     #   print(file)\n",
    "        year=file.split('.')[0][-4:]\n",
    "        filedf['year']=int(year)\n",
    "        filedf['year'].astype('int64')\n",
    "        l1.append(filedf)\n",
    "    dflist=pd.concat(l1)\n",
    "    return dflist "
   ]
  },
  {
   "cell_type": "code",
   "execution_count": 61,
   "metadata": {},
   "outputs": [
    {
     "name": "stdout",
     "output_type": "stream",
     "text": [
      "./enexis\\gas1\\train\n",
      "./enexis\\gas1\\test\n"
     ]
    }
   ],
   "source": [
    "df_enexis_gas_train=loaddata('gas1','train')\n",
    "df_enexis_gas_test=loaddata('gas1','test')"
   ]
  },
  {
   "cell_type": "code",
   "execution_count": 62,
   "metadata": {},
   "outputs": [
    {
     "name": "stdout",
     "output_type": "stream",
     "text": [
      "./enexis\\elect\\train\n",
      "./enexis\\elect\\test\n"
     ]
    },
    {
     "data": {
      "text/html": [
       "<div>\n",
       "<style scoped>\n",
       "    .dataframe tbody tr th:only-of-type {\n",
       "        vertical-align: middle;\n",
       "    }\n",
       "\n",
       "    .dataframe tbody tr th {\n",
       "        vertical-align: top;\n",
       "    }\n",
       "\n",
       "    .dataframe thead th {\n",
       "        text-align: right;\n",
       "    }\n",
       "</style>\n",
       "<table border=\"1\" class=\"dataframe\">\n",
       "  <thead>\n",
       "    <tr style=\"text-align: right;\">\n",
       "      <th></th>\n",
       "      <th>net_manager</th>\n",
       "      <th>purchase_area</th>\n",
       "      <th>street</th>\n",
       "      <th>zipcode_from</th>\n",
       "      <th>zipcode_to</th>\n",
       "      <th>city</th>\n",
       "      <th>delivery_perc</th>\n",
       "      <th>num_connections</th>\n",
       "      <th>perc_of_active_connections</th>\n",
       "      <th>type_conn_perc</th>\n",
       "      <th>type_of_connection</th>\n",
       "      <th>annual_consume</th>\n",
       "      <th>annual_consume_lowtarif_perc</th>\n",
       "      <th>smartmeter_perc</th>\n",
       "      <th>year</th>\n",
       "    </tr>\n",
       "  </thead>\n",
       "  <tbody>\n",
       "    <tr>\n",
       "      <th>0</th>\n",
       "      <td>Enexis B.V.</td>\n",
       "      <td>ENEXIS</td>\n",
       "      <td>Sasdijk</td>\n",
       "      <td>4251AB</td>\n",
       "      <td>4251AB</td>\n",
       "      <td>WERKENDAM</td>\n",
       "      <td>100</td>\n",
       "      <td>16</td>\n",
       "      <td>100</td>\n",
       "      <td>NaN</td>\n",
       "      <td>NaN</td>\n",
       "      <td>4282</td>\n",
       "      <td>25</td>\n",
       "      <td>0.0</td>\n",
       "      <td>2010</td>\n",
       "    </tr>\n",
       "    <tr>\n",
       "      <th>1</th>\n",
       "      <td>Enexis B.V.</td>\n",
       "      <td>ENEXIS</td>\n",
       "      <td>Sasdijk</td>\n",
       "      <td>4251AC</td>\n",
       "      <td>4251AC</td>\n",
       "      <td>WERKENDAM</td>\n",
       "      <td>100</td>\n",
       "      <td>11</td>\n",
       "      <td>100</td>\n",
       "      <td>NaN</td>\n",
       "      <td>NaN</td>\n",
       "      <td>5113</td>\n",
       "      <td>10</td>\n",
       "      <td>0.0</td>\n",
       "      <td>2010</td>\n",
       "    </tr>\n",
       "    <tr>\n",
       "      <th>2</th>\n",
       "      <td>Enexis B.V.</td>\n",
       "      <td>ENEXIS</td>\n",
       "      <td>Sasdijk</td>\n",
       "      <td>4251AD</td>\n",
       "      <td>4251AD</td>\n",
       "      <td>WERKENDAM</td>\n",
       "      <td>100</td>\n",
       "      <td>30</td>\n",
       "      <td>100</td>\n",
       "      <td>NaN</td>\n",
       "      <td>NaN</td>\n",
       "      <td>4809</td>\n",
       "      <td>34</td>\n",
       "      <td>0.0</td>\n",
       "      <td>2010</td>\n",
       "    </tr>\n",
       "    <tr>\n",
       "      <th>3</th>\n",
       "      <td>Enexis B.V.</td>\n",
       "      <td>ENEXIS</td>\n",
       "      <td>Nieuweweg</td>\n",
       "      <td>4251AE</td>\n",
       "      <td>4251AG</td>\n",
       "      <td>WERKENDAM</td>\n",
       "      <td>100</td>\n",
       "      <td>21</td>\n",
       "      <td>100</td>\n",
       "      <td>NaN</td>\n",
       "      <td>NaN</td>\n",
       "      <td>5015</td>\n",
       "      <td>44</td>\n",
       "      <td>0.0</td>\n",
       "      <td>2010</td>\n",
       "    </tr>\n",
       "    <tr>\n",
       "      <th>4</th>\n",
       "      <td>Enexis B.V.</td>\n",
       "      <td>ENEXIS</td>\n",
       "      <td>Koppenhof</td>\n",
       "      <td>4251AH</td>\n",
       "      <td>4251AH</td>\n",
       "      <td>WERKENDAM</td>\n",
       "      <td>100</td>\n",
       "      <td>12</td>\n",
       "      <td>100</td>\n",
       "      <td>NaN</td>\n",
       "      <td>NaN</td>\n",
       "      <td>3074</td>\n",
       "      <td>22</td>\n",
       "      <td>0.0</td>\n",
       "      <td>2010</td>\n",
       "    </tr>\n",
       "    <tr>\n",
       "      <th>...</th>\n",
       "      <td>...</td>\n",
       "      <td>...</td>\n",
       "      <td>...</td>\n",
       "      <td>...</td>\n",
       "      <td>...</td>\n",
       "      <td>...</td>\n",
       "      <td>...</td>\n",
       "      <td>...</td>\n",
       "      <td>...</td>\n",
       "      <td>...</td>\n",
       "      <td>...</td>\n",
       "      <td>...</td>\n",
       "      <td>...</td>\n",
       "      <td>...</td>\n",
       "      <td>...</td>\n",
       "    </tr>\n",
       "    <tr>\n",
       "      <th>115571</th>\n",
       "      <td>Enexis B.V.</td>\n",
       "      <td>ENEXIS</td>\n",
       "      <td>'t-Lage eind</td>\n",
       "      <td>9998XA</td>\n",
       "      <td>9998XA</td>\n",
       "      <td>ROTTUM GN</td>\n",
       "      <td>64</td>\n",
       "      <td>14</td>\n",
       "      <td>100</td>\n",
       "      <td>43.0</td>\n",
       "      <td>3X25</td>\n",
       "      <td>2848</td>\n",
       "      <td>47</td>\n",
       "      <td>50.0</td>\n",
       "      <td>2017</td>\n",
       "    </tr>\n",
       "    <tr>\n",
       "      <th>115572</th>\n",
       "      <td>Enexis B.V.</td>\n",
       "      <td>ENEXIS</td>\n",
       "      <td>Jacob Tilbusscherweg</td>\n",
       "      <td>9998XB</td>\n",
       "      <td>9998XB</td>\n",
       "      <td>ROTTUM GN</td>\n",
       "      <td>81</td>\n",
       "      <td>21</td>\n",
       "      <td>100</td>\n",
       "      <td>52.0</td>\n",
       "      <td>3X25</td>\n",
       "      <td>7428</td>\n",
       "      <td>57</td>\n",
       "      <td>33.0</td>\n",
       "      <td>2017</td>\n",
       "    </tr>\n",
       "    <tr>\n",
       "      <th>115573</th>\n",
       "      <td>Enexis B.V.</td>\n",
       "      <td>ENEXIS</td>\n",
       "      <td>Kloosterweg</td>\n",
       "      <td>9998XC</td>\n",
       "      <td>9998XD</td>\n",
       "      <td>ROTTUM GN</td>\n",
       "      <td>71</td>\n",
       "      <td>21</td>\n",
       "      <td>100</td>\n",
       "      <td>57.0</td>\n",
       "      <td>3X25</td>\n",
       "      <td>2517</td>\n",
       "      <td>37</td>\n",
       "      <td>19.0</td>\n",
       "      <td>2017</td>\n",
       "    </tr>\n",
       "    <tr>\n",
       "      <th>115574</th>\n",
       "      <td>Enexis B.V.</td>\n",
       "      <td>ENEXIS</td>\n",
       "      <td>Stitswerderweg</td>\n",
       "      <td>9998XE</td>\n",
       "      <td>9999XJ</td>\n",
       "      <td>STITSWERD</td>\n",
       "      <td>55</td>\n",
       "      <td>29</td>\n",
       "      <td>100</td>\n",
       "      <td>59.0</td>\n",
       "      <td>3X25</td>\n",
       "      <td>11330</td>\n",
       "      <td>46</td>\n",
       "      <td>34.0</td>\n",
       "      <td>2017</td>\n",
       "    </tr>\n",
       "    <tr>\n",
       "      <th>115575</th>\n",
       "      <td>Enexis B.V.</td>\n",
       "      <td>ENEXIS</td>\n",
       "      <td>Stiel</td>\n",
       "      <td>9999XK</td>\n",
       "      <td>9999XL</td>\n",
       "      <td>STITSWERD</td>\n",
       "      <td>71</td>\n",
       "      <td>21</td>\n",
       "      <td>100</td>\n",
       "      <td>43.0</td>\n",
       "      <td>3X25</td>\n",
       "      <td>2546</td>\n",
       "      <td>41</td>\n",
       "      <td>33.0</td>\n",
       "      <td>2017</td>\n",
       "    </tr>\n",
       "  </tbody>\n",
       "</table>\n",
       "<p>892653 rows × 15 columns</p>\n",
       "</div>"
      ],
      "text/plain": [
       "        net_manager purchase_area                street zipcode_from  \\\n",
       "0       Enexis B.V.        ENEXIS               Sasdijk       4251AB   \n",
       "1       Enexis B.V.        ENEXIS               Sasdijk       4251AC   \n",
       "2       Enexis B.V.        ENEXIS               Sasdijk       4251AD   \n",
       "3       Enexis B.V.        ENEXIS             Nieuweweg       4251AE   \n",
       "4       Enexis B.V.        ENEXIS             Koppenhof       4251AH   \n",
       "...             ...           ...                   ...          ...   \n",
       "115571  Enexis B.V.        ENEXIS          't-Lage eind       9998XA   \n",
       "115572  Enexis B.V.        ENEXIS  Jacob Tilbusscherweg       9998XB   \n",
       "115573  Enexis B.V.        ENEXIS           Kloosterweg       9998XC   \n",
       "115574  Enexis B.V.        ENEXIS        Stitswerderweg       9998XE   \n",
       "115575  Enexis B.V.        ENEXIS                 Stiel       9999XK   \n",
       "\n",
       "       zipcode_to       city  delivery_perc  num_connections  \\\n",
       "0          4251AB  WERKENDAM            100               16   \n",
       "1          4251AC  WERKENDAM            100               11   \n",
       "2          4251AD  WERKENDAM            100               30   \n",
       "3          4251AG  WERKENDAM            100               21   \n",
       "4          4251AH  WERKENDAM            100               12   \n",
       "...           ...        ...            ...              ...   \n",
       "115571     9998XA  ROTTUM GN             64               14   \n",
       "115572     9998XB  ROTTUM GN             81               21   \n",
       "115573     9998XD  ROTTUM GN             71               21   \n",
       "115574     9999XJ  STITSWERD             55               29   \n",
       "115575     9999XL  STITSWERD             71               21   \n",
       "\n",
       "        perc_of_active_connections  type_conn_perc type_of_connection  \\\n",
       "0                              100             NaN                NaN   \n",
       "1                              100             NaN                NaN   \n",
       "2                              100             NaN                NaN   \n",
       "3                              100             NaN                NaN   \n",
       "4                              100             NaN                NaN   \n",
       "...                            ...             ...                ...   \n",
       "115571                         100            43.0               3X25   \n",
       "115572                         100            52.0               3X25   \n",
       "115573                         100            57.0               3X25   \n",
       "115574                         100            59.0               3X25   \n",
       "115575                         100            43.0               3X25   \n",
       "\n",
       "        annual_consume  annual_consume_lowtarif_perc  smartmeter_perc  year  \n",
       "0                 4282                            25              0.0  2010  \n",
       "1                 5113                            10              0.0  2010  \n",
       "2                 4809                            34              0.0  2010  \n",
       "3                 5015                            44              0.0  2010  \n",
       "4                 3074                            22              0.0  2010  \n",
       "...                ...                           ...              ...   ...  \n",
       "115571            2848                            47             50.0  2017  \n",
       "115572            7428                            57             33.0  2017  \n",
       "115573            2517                            37             19.0  2017  \n",
       "115574           11330                            46             34.0  2017  \n",
       "115575            2546                            41             33.0  2017  \n",
       "\n",
       "[892653 rows x 15 columns]"
      ]
     },
     "execution_count": 62,
     "metadata": {},
     "output_type": "execute_result"
    }
   ],
   "source": [
    "df_enexis_train=loaddata('elect','train')\n",
    "df_enexis_test=loaddata('elect','test')\n",
    "df_enexis_train"
   ]
  },
  {
   "cell_type": "code",
   "execution_count": 63,
   "metadata": {},
   "outputs": [
    {
     "data": {
      "text/html": [
       "<div>\n",
       "<style scoped>\n",
       "    .dataframe tbody tr th:only-of-type {\n",
       "        vertical-align: middle;\n",
       "    }\n",
       "\n",
       "    .dataframe tbody tr th {\n",
       "        vertical-align: top;\n",
       "    }\n",
       "\n",
       "    .dataframe thead th {\n",
       "        text-align: right;\n",
       "    }\n",
       "</style>\n",
       "<table border=\"1\" class=\"dataframe\">\n",
       "  <thead>\n",
       "    <tr style=\"text-align: right;\">\n",
       "      <th></th>\n",
       "      <th>net_manager</th>\n",
       "      <th>purchase_area</th>\n",
       "      <th>street</th>\n",
       "      <th>zipcode_from</th>\n",
       "      <th>zipcode_to</th>\n",
       "      <th>city</th>\n",
       "      <th>num_connections</th>\n",
       "      <th>delivery_perc</th>\n",
       "      <th>perc_of_active_connections</th>\n",
       "      <th>type_conn_perc</th>\n",
       "      <th>type_of_connection</th>\n",
       "      <th>annual_consume</th>\n",
       "      <th>annual_consume_lowtarif_perc</th>\n",
       "      <th>smartmeter_perc</th>\n",
       "      <th>year</th>\n",
       "    </tr>\n",
       "  </thead>\n",
       "  <tbody>\n",
       "    <tr>\n",
       "      <th>0</th>\n",
       "      <td>Enexis B.V.</td>\n",
       "      <td>ENEXIS</td>\n",
       "      <td>Sasdijk</td>\n",
       "      <td>4251AA</td>\n",
       "      <td>4251AA</td>\n",
       "      <td>WERKENDAM</td>\n",
       "      <td>42</td>\n",
       "      <td>100.00</td>\n",
       "      <td>100</td>\n",
       "      <td>50.00</td>\n",
       "      <td>3x25</td>\n",
       "      <td>5860.21</td>\n",
       "      <td>28.31</td>\n",
       "      <td>7.14</td>\n",
       "      <td>2018</td>\n",
       "    </tr>\n",
       "    <tr>\n",
       "      <th>1</th>\n",
       "      <td>Enexis B.V.</td>\n",
       "      <td>ENEXIS</td>\n",
       "      <td>Sasdijk</td>\n",
       "      <td>4251AB</td>\n",
       "      <td>4251AB</td>\n",
       "      <td>WERKENDAM</td>\n",
       "      <td>17</td>\n",
       "      <td>100.00</td>\n",
       "      <td>100</td>\n",
       "      <td>41.18</td>\n",
       "      <td>1x25</td>\n",
       "      <td>4149.24</td>\n",
       "      <td>28.33</td>\n",
       "      <td>29.41</td>\n",
       "      <td>2018</td>\n",
       "    </tr>\n",
       "    <tr>\n",
       "      <th>2</th>\n",
       "      <td>Enexis B.V.</td>\n",
       "      <td>ENEXIS</td>\n",
       "      <td>Sasdijk</td>\n",
       "      <td>4251AC</td>\n",
       "      <td>4251AC</td>\n",
       "      <td>WERKENDAM</td>\n",
       "      <td>11</td>\n",
       "      <td>81.82</td>\n",
       "      <td>100</td>\n",
       "      <td>63.64</td>\n",
       "      <td>1x25</td>\n",
       "      <td>2389.27</td>\n",
       "      <td>34.60</td>\n",
       "      <td>36.36</td>\n",
       "      <td>2018</td>\n",
       "    </tr>\n",
       "    <tr>\n",
       "      <th>3</th>\n",
       "      <td>Enexis B.V.</td>\n",
       "      <td>ENEXIS</td>\n",
       "      <td>Sasdijk</td>\n",
       "      <td>4251AD</td>\n",
       "      <td>4251AD</td>\n",
       "      <td>WERKENDAM</td>\n",
       "      <td>29</td>\n",
       "      <td>100.00</td>\n",
       "      <td>100</td>\n",
       "      <td>41.38</td>\n",
       "      <td>3x25</td>\n",
       "      <td>3866.21</td>\n",
       "      <td>32.11</td>\n",
       "      <td>17.24</td>\n",
       "      <td>2018</td>\n",
       "    </tr>\n",
       "    <tr>\n",
       "      <th>4</th>\n",
       "      <td>Enexis B.V.</td>\n",
       "      <td>ENEXIS</td>\n",
       "      <td>Heuveltje</td>\n",
       "      <td>4251AE</td>\n",
       "      <td>4251AG</td>\n",
       "      <td>WERKENDAM</td>\n",
       "      <td>21</td>\n",
       "      <td>90.48</td>\n",
       "      <td>100</td>\n",
       "      <td>42.86</td>\n",
       "      <td>1x25</td>\n",
       "      <td>4416.52</td>\n",
       "      <td>57.26</td>\n",
       "      <td>33.33</td>\n",
       "      <td>2018</td>\n",
       "    </tr>\n",
       "    <tr>\n",
       "      <th>...</th>\n",
       "      <td>...</td>\n",
       "      <td>...</td>\n",
       "      <td>...</td>\n",
       "      <td>...</td>\n",
       "      <td>...</td>\n",
       "      <td>...</td>\n",
       "      <td>...</td>\n",
       "      <td>...</td>\n",
       "      <td>...</td>\n",
       "      <td>...</td>\n",
       "      <td>...</td>\n",
       "      <td>...</td>\n",
       "      <td>...</td>\n",
       "      <td>...</td>\n",
       "      <td>...</td>\n",
       "    </tr>\n",
       "    <tr>\n",
       "      <th>124581</th>\n",
       "      <td>Enexis B.V.</td>\n",
       "      <td>ENEXIS</td>\n",
       "      <td>Jacob Tilbusscherweg</td>\n",
       "      <td>9998XB</td>\n",
       "      <td>9998XB</td>\n",
       "      <td>ROTTUM GN</td>\n",
       "      <td>21</td>\n",
       "      <td>76.19</td>\n",
       "      <td>100</td>\n",
       "      <td>57.14</td>\n",
       "      <td>3x25</td>\n",
       "      <td>7034.57</td>\n",
       "      <td>47.49</td>\n",
       "      <td>76.19</td>\n",
       "      <td>2019</td>\n",
       "    </tr>\n",
       "    <tr>\n",
       "      <th>124582</th>\n",
       "      <td>Enexis B.V.</td>\n",
       "      <td>ENEXIS</td>\n",
       "      <td>Jan Boerweg</td>\n",
       "      <td>9998XC</td>\n",
       "      <td>9998XD</td>\n",
       "      <td>ROTTUM GN</td>\n",
       "      <td>20</td>\n",
       "      <td>60.00</td>\n",
       "      <td>100</td>\n",
       "      <td>55.00</td>\n",
       "      <td>3x25</td>\n",
       "      <td>2170.80</td>\n",
       "      <td>41.79</td>\n",
       "      <td>55.00</td>\n",
       "      <td>2019</td>\n",
       "    </tr>\n",
       "    <tr>\n",
       "      <th>124583</th>\n",
       "      <td>Enexis B.V.</td>\n",
       "      <td>ENEXIS</td>\n",
       "      <td>Knolweg</td>\n",
       "      <td>9998XE</td>\n",
       "      <td>9999XG</td>\n",
       "      <td>ROTTUM GN</td>\n",
       "      <td>13</td>\n",
       "      <td>23.08</td>\n",
       "      <td>100</td>\n",
       "      <td>53.85</td>\n",
       "      <td>3x25</td>\n",
       "      <td>10193.92</td>\n",
       "      <td>51.67</td>\n",
       "      <td>100.00</td>\n",
       "      <td>2019</td>\n",
       "    </tr>\n",
       "    <tr>\n",
       "      <th>124584</th>\n",
       "      <td>Enexis B.V.</td>\n",
       "      <td>ENEXIS</td>\n",
       "      <td>Stitswerderweg</td>\n",
       "      <td>9999XH</td>\n",
       "      <td>9999XJ</td>\n",
       "      <td>STITSWERD</td>\n",
       "      <td>16</td>\n",
       "      <td>56.25</td>\n",
       "      <td>100</td>\n",
       "      <td>62.50</td>\n",
       "      <td>3x25</td>\n",
       "      <td>6795.38</td>\n",
       "      <td>39.54</td>\n",
       "      <td>68.75</td>\n",
       "      <td>2019</td>\n",
       "    </tr>\n",
       "    <tr>\n",
       "      <th>124585</th>\n",
       "      <td>Enexis B.V.</td>\n",
       "      <td>ENEXIS</td>\n",
       "      <td>Stiel</td>\n",
       "      <td>9999XK</td>\n",
       "      <td>9999XL</td>\n",
       "      <td>STITSWERD</td>\n",
       "      <td>21</td>\n",
       "      <td>66.67</td>\n",
       "      <td>100</td>\n",
       "      <td>47.62</td>\n",
       "      <td>3x25</td>\n",
       "      <td>2580.71</td>\n",
       "      <td>40.03</td>\n",
       "      <td>71.43</td>\n",
       "      <td>2019</td>\n",
       "    </tr>\n",
       "  </tbody>\n",
       "</table>\n",
       "<p>248749 rows × 15 columns</p>\n",
       "</div>"
      ],
      "text/plain": [
       "        net_manager purchase_area                street zipcode_from  \\\n",
       "0       Enexis B.V.        ENEXIS               Sasdijk       4251AA   \n",
       "1       Enexis B.V.        ENEXIS               Sasdijk       4251AB   \n",
       "2       Enexis B.V.        ENEXIS               Sasdijk       4251AC   \n",
       "3       Enexis B.V.        ENEXIS               Sasdijk       4251AD   \n",
       "4       Enexis B.V.        ENEXIS             Heuveltje       4251AE   \n",
       "...             ...           ...                   ...          ...   \n",
       "124581  Enexis B.V.        ENEXIS  Jacob Tilbusscherweg       9998XB   \n",
       "124582  Enexis B.V.        ENEXIS           Jan Boerweg       9998XC   \n",
       "124583  Enexis B.V.        ENEXIS               Knolweg       9998XE   \n",
       "124584  Enexis B.V.        ENEXIS        Stitswerderweg       9999XH   \n",
       "124585  Enexis B.V.        ENEXIS                 Stiel       9999XK   \n",
       "\n",
       "       zipcode_to       city  num_connections  delivery_perc  \\\n",
       "0          4251AA  WERKENDAM               42         100.00   \n",
       "1          4251AB  WERKENDAM               17         100.00   \n",
       "2          4251AC  WERKENDAM               11          81.82   \n",
       "3          4251AD  WERKENDAM               29         100.00   \n",
       "4          4251AG  WERKENDAM               21          90.48   \n",
       "...           ...        ...              ...            ...   \n",
       "124581     9998XB  ROTTUM GN               21          76.19   \n",
       "124582     9998XD  ROTTUM GN               20          60.00   \n",
       "124583     9999XG  ROTTUM GN               13          23.08   \n",
       "124584     9999XJ  STITSWERD               16          56.25   \n",
       "124585     9999XL  STITSWERD               21          66.67   \n",
       "\n",
       "        perc_of_active_connections  type_conn_perc type_of_connection  \\\n",
       "0                              100           50.00               3x25   \n",
       "1                              100           41.18               1x25   \n",
       "2                              100           63.64               1x25   \n",
       "3                              100           41.38               3x25   \n",
       "4                              100           42.86               1x25   \n",
       "...                            ...             ...                ...   \n",
       "124581                         100           57.14               3x25   \n",
       "124582                         100           55.00               3x25   \n",
       "124583                         100           53.85               3x25   \n",
       "124584                         100           62.50               3x25   \n",
       "124585                         100           47.62               3x25   \n",
       "\n",
       "        annual_consume  annual_consume_lowtarif_perc  smartmeter_perc  year  \n",
       "0              5860.21                         28.31             7.14  2018  \n",
       "1              4149.24                         28.33            29.41  2018  \n",
       "2              2389.27                         34.60            36.36  2018  \n",
       "3              3866.21                         32.11            17.24  2018  \n",
       "4              4416.52                         57.26            33.33  2018  \n",
       "...                ...                           ...              ...   ...  \n",
       "124581         7034.57                         47.49            76.19  2019  \n",
       "124582         2170.80                         41.79            55.00  2019  \n",
       "124583        10193.92                         51.67           100.00  2019  \n",
       "124584         6795.38                         39.54            68.75  2019  \n",
       "124585         2580.71                         40.03            71.43  2019  \n",
       "\n",
       "[248749 rows x 15 columns]"
      ]
     },
     "execution_count": 63,
     "metadata": {},
     "output_type": "execute_result"
    }
   ],
   "source": [
    "df_enexis_test"
   ]
  },
  {
   "cell_type": "code",
   "execution_count": 64,
   "metadata": {},
   "outputs": [
    {
     "data": {
      "text/html": [
       "<div>\n",
       "<style scoped>\n",
       "    .dataframe tbody tr th:only-of-type {\n",
       "        vertical-align: middle;\n",
       "    }\n",
       "\n",
       "    .dataframe tbody tr th {\n",
       "        vertical-align: top;\n",
       "    }\n",
       "\n",
       "    .dataframe thead th {\n",
       "        text-align: right;\n",
       "    }\n",
       "</style>\n",
       "<table border=\"1\" class=\"dataframe\">\n",
       "  <thead>\n",
       "    <tr style=\"text-align: right;\">\n",
       "      <th></th>\n",
       "      <th>delivery_perc</th>\n",
       "      <th>num_connections</th>\n",
       "      <th>perc_of_active_connections</th>\n",
       "      <th>type_conn_perc</th>\n",
       "      <th>annual_consume</th>\n",
       "      <th>annual_consume_lowtarif_perc</th>\n",
       "      <th>smartmeter_perc</th>\n",
       "      <th>year</th>\n",
       "    </tr>\n",
       "  </thead>\n",
       "  <tbody>\n",
       "    <tr>\n",
       "      <th>count</th>\n",
       "      <td>892653.000000</td>\n",
       "      <td>892653.000000</td>\n",
       "      <td>892653.0</td>\n",
       "      <td>785141.000000</td>\n",
       "      <td>892653.000000</td>\n",
       "      <td>892653.000000</td>\n",
       "      <td>892653.000000</td>\n",
       "      <td>892653.000000</td>\n",
       "    </tr>\n",
       "    <tr>\n",
       "      <th>mean</th>\n",
       "      <td>97.643127</td>\n",
       "      <td>21.976149</td>\n",
       "      <td>100.0</td>\n",
       "      <td>70.088122</td>\n",
       "      <td>4768.675314</td>\n",
       "      <td>35.028916</td>\n",
       "      <td>12.866437</td>\n",
       "      <td>2013.545245</td>\n",
       "    </tr>\n",
       "    <tr>\n",
       "      <th>std</th>\n",
       "      <td>5.961693</td>\n",
       "      <td>12.141144</td>\n",
       "      <td>0.0</td>\n",
       "      <td>19.434092</td>\n",
       "      <td>3588.435082</td>\n",
       "      <td>16.836797</td>\n",
       "      <td>22.833050</td>\n",
       "      <td>2.284633</td>\n",
       "    </tr>\n",
       "    <tr>\n",
       "      <th>min</th>\n",
       "      <td>0.000000</td>\n",
       "      <td>10.000000</td>\n",
       "      <td>100.0</td>\n",
       "      <td>3.000000</td>\n",
       "      <td>53.000000</td>\n",
       "      <td>0.000000</td>\n",
       "      <td>0.000000</td>\n",
       "      <td>2010.000000</td>\n",
       "    </tr>\n",
       "    <tr>\n",
       "      <th>25%</th>\n",
       "      <td>100.000000</td>\n",
       "      <td>15.000000</td>\n",
       "      <td>100.0</td>\n",
       "      <td>54.000000</td>\n",
       "      <td>3000.000000</td>\n",
       "      <td>22.000000</td>\n",
       "      <td>0.000000</td>\n",
       "      <td>2012.000000</td>\n",
       "    </tr>\n",
       "    <tr>\n",
       "      <th>50%</th>\n",
       "      <td>100.000000</td>\n",
       "      <td>19.000000</td>\n",
       "      <td>100.0</td>\n",
       "      <td>69.000000</td>\n",
       "      <td>3767.000000</td>\n",
       "      <td>36.000000</td>\n",
       "      <td>4.000000</td>\n",
       "      <td>2014.000000</td>\n",
       "    </tr>\n",
       "    <tr>\n",
       "      <th>75%</th>\n",
       "      <td>100.000000</td>\n",
       "      <td>25.000000</td>\n",
       "      <td>100.0</td>\n",
       "      <td>88.000000</td>\n",
       "      <td>4987.000000</td>\n",
       "      <td>48.000000</td>\n",
       "      <td>14.000000</td>\n",
       "      <td>2016.000000</td>\n",
       "    </tr>\n",
       "    <tr>\n",
       "      <th>max</th>\n",
       "      <td>100.000000</td>\n",
       "      <td>625.000000</td>\n",
       "      <td>100.0</td>\n",
       "      <td>100.000000</td>\n",
       "      <td>73043.000000</td>\n",
       "      <td>100.000000</td>\n",
       "      <td>100.000000</td>\n",
       "      <td>2017.000000</td>\n",
       "    </tr>\n",
       "  </tbody>\n",
       "</table>\n",
       "</div>"
      ],
      "text/plain": [
       "       delivery_perc  num_connections  perc_of_active_connections  \\\n",
       "count  892653.000000    892653.000000                    892653.0   \n",
       "mean       97.643127        21.976149                       100.0   \n",
       "std         5.961693        12.141144                         0.0   \n",
       "min         0.000000        10.000000                       100.0   \n",
       "25%       100.000000        15.000000                       100.0   \n",
       "50%       100.000000        19.000000                       100.0   \n",
       "75%       100.000000        25.000000                       100.0   \n",
       "max       100.000000       625.000000                       100.0   \n",
       "\n",
       "       type_conn_perc  annual_consume  annual_consume_lowtarif_perc  \\\n",
       "count   785141.000000   892653.000000                 892653.000000   \n",
       "mean        70.088122     4768.675314                     35.028916   \n",
       "std         19.434092     3588.435082                     16.836797   \n",
       "min          3.000000       53.000000                      0.000000   \n",
       "25%         54.000000     3000.000000                     22.000000   \n",
       "50%         69.000000     3767.000000                     36.000000   \n",
       "75%         88.000000     4987.000000                     48.000000   \n",
       "max        100.000000    73043.000000                    100.000000   \n",
       "\n",
       "       smartmeter_perc           year  \n",
       "count    892653.000000  892653.000000  \n",
       "mean         12.866437    2013.545245  \n",
       "std          22.833050       2.284633  \n",
       "min           0.000000    2010.000000  \n",
       "25%           0.000000    2012.000000  \n",
       "50%           4.000000    2014.000000  \n",
       "75%          14.000000    2016.000000  \n",
       "max         100.000000    2017.000000  "
      ]
     },
     "execution_count": 64,
     "metadata": {},
     "output_type": "execute_result"
    }
   ],
   "source": [
    "df_enexis_train.describe()"
   ]
  },
  {
   "cell_type": "code",
   "execution_count": 65,
   "metadata": {},
   "outputs": [
    {
     "data": {
      "text/html": [
       "<div>\n",
       "<style scoped>\n",
       "    .dataframe tbody tr th:only-of-type {\n",
       "        vertical-align: middle;\n",
       "    }\n",
       "\n",
       "    .dataframe tbody tr th {\n",
       "        vertical-align: top;\n",
       "    }\n",
       "\n",
       "    .dataframe thead th {\n",
       "        text-align: right;\n",
       "    }\n",
       "</style>\n",
       "<table border=\"1\" class=\"dataframe\">\n",
       "  <thead>\n",
       "    <tr style=\"text-align: right;\">\n",
       "      <th></th>\n",
       "      <th>num_connections</th>\n",
       "      <th>delivery_perc</th>\n",
       "      <th>perc_of_active_connections</th>\n",
       "      <th>type_conn_perc</th>\n",
       "      <th>annual_consume</th>\n",
       "      <th>annual_consume_lowtarif_perc</th>\n",
       "      <th>smartmeter_perc</th>\n",
       "      <th>year</th>\n",
       "    </tr>\n",
       "  </thead>\n",
       "  <tbody>\n",
       "    <tr>\n",
       "      <th>count</th>\n",
       "      <td>248749.000000</td>\n",
       "      <td>248167.000000</td>\n",
       "      <td>248749.0</td>\n",
       "      <td>248749.000000</td>\n",
       "      <td>248749.000000</td>\n",
       "      <td>248749.000000</td>\n",
       "      <td>248749.000000</td>\n",
       "      <td>248749.00000</td>\n",
       "    </tr>\n",
       "    <tr>\n",
       "      <th>mean</th>\n",
       "      <td>21.263587</td>\n",
       "      <td>90.107759</td>\n",
       "      <td>100.0</td>\n",
       "      <td>67.999099</td>\n",
       "      <td>4534.545448</td>\n",
       "      <td>42.769361</td>\n",
       "      <td>58.357102</td>\n",
       "      <td>2018.50085</td>\n",
       "    </tr>\n",
       "    <tr>\n",
       "      <th>std</th>\n",
       "      <td>12.421645</td>\n",
       "      <td>12.839483</td>\n",
       "      <td>0.0</td>\n",
       "      <td>19.134440</td>\n",
       "      <td>3877.432860</td>\n",
       "      <td>12.751319</td>\n",
       "      <td>32.668096</td>\n",
       "      <td>0.50000</td>\n",
       "    </tr>\n",
       "    <tr>\n",
       "      <th>min</th>\n",
       "      <td>10.000000</td>\n",
       "      <td>1.090000</td>\n",
       "      <td>100.0</td>\n",
       "      <td>0.000000</td>\n",
       "      <td>60.920000</td>\n",
       "      <td>0.000000</td>\n",
       "      <td>0.000000</td>\n",
       "      <td>2018.00000</td>\n",
       "    </tr>\n",
       "    <tr>\n",
       "      <th>25%</th>\n",
       "      <td>14.000000</td>\n",
       "      <td>85.000000</td>\n",
       "      <td>100.0</td>\n",
       "      <td>52.630000</td>\n",
       "      <td>2725.200000</td>\n",
       "      <td>36.360000</td>\n",
       "      <td>26.090000</td>\n",
       "      <td>2018.00000</td>\n",
       "    </tr>\n",
       "    <tr>\n",
       "      <th>50%</th>\n",
       "      <td>19.000000</td>\n",
       "      <td>93.750000</td>\n",
       "      <td>100.0</td>\n",
       "      <td>66.670000</td>\n",
       "      <td>3387.640000</td>\n",
       "      <td>46.400000</td>\n",
       "      <td>68.420000</td>\n",
       "      <td>2019.00000</td>\n",
       "    </tr>\n",
       "    <tr>\n",
       "      <th>75%</th>\n",
       "      <td>24.000000</td>\n",
       "      <td>100.000000</td>\n",
       "      <td>100.0</td>\n",
       "      <td>84.000000</td>\n",
       "      <td>4580.060000</td>\n",
       "      <td>51.960000</td>\n",
       "      <td>88.890000</td>\n",
       "      <td>2019.00000</td>\n",
       "    </tr>\n",
       "    <tr>\n",
       "      <th>max</th>\n",
       "      <td>631.000000</td>\n",
       "      <td>100.000000</td>\n",
       "      <td>100.0</td>\n",
       "      <td>100.000000</td>\n",
       "      <td>66823.000000</td>\n",
       "      <td>88.190000</td>\n",
       "      <td>100.000000</td>\n",
       "      <td>2019.00000</td>\n",
       "    </tr>\n",
       "  </tbody>\n",
       "</table>\n",
       "</div>"
      ],
      "text/plain": [
       "       num_connections  delivery_perc  perc_of_active_connections  \\\n",
       "count    248749.000000  248167.000000                    248749.0   \n",
       "mean         21.263587      90.107759                       100.0   \n",
       "std          12.421645      12.839483                         0.0   \n",
       "min          10.000000       1.090000                       100.0   \n",
       "25%          14.000000      85.000000                       100.0   \n",
       "50%          19.000000      93.750000                       100.0   \n",
       "75%          24.000000     100.000000                       100.0   \n",
       "max         631.000000     100.000000                       100.0   \n",
       "\n",
       "       type_conn_perc  annual_consume  annual_consume_lowtarif_perc  \\\n",
       "count   248749.000000   248749.000000                 248749.000000   \n",
       "mean        67.999099     4534.545448                     42.769361   \n",
       "std         19.134440     3877.432860                     12.751319   \n",
       "min          0.000000       60.920000                      0.000000   \n",
       "25%         52.630000     2725.200000                     36.360000   \n",
       "50%         66.670000     3387.640000                     46.400000   \n",
       "75%         84.000000     4580.060000                     51.960000   \n",
       "max        100.000000    66823.000000                     88.190000   \n",
       "\n",
       "       smartmeter_perc          year  \n",
       "count    248749.000000  248749.00000  \n",
       "mean         58.357102    2018.50085  \n",
       "std          32.668096       0.50000  \n",
       "min           0.000000    2018.00000  \n",
       "25%          26.090000    2018.00000  \n",
       "50%          68.420000    2019.00000  \n",
       "75%          88.890000    2019.00000  \n",
       "max         100.000000    2019.00000  "
      ]
     },
     "execution_count": 65,
     "metadata": {},
     "output_type": "execute_result"
    }
   ],
   "source": [
    "df_enexis_test.describe()"
   ]
  },
  {
   "cell_type": "code",
   "execution_count": 66,
   "metadata": {},
   "outputs": [
    {
     "name": "stdout",
     "output_type": "stream",
     "text": [
      "<class 'pandas.core.frame.DataFrame'>\n",
      "Int64Index: 892653 entries, 0 to 115575\n",
      "Data columns (total 15 columns):\n",
      " #   Column                        Non-Null Count   Dtype  \n",
      "---  ------                        --------------   -----  \n",
      " 0   net_manager                   892653 non-null  object \n",
      " 1   purchase_area                 892653 non-null  object \n",
      " 2   street                        892653 non-null  object \n",
      " 3   zipcode_from                  892653 non-null  object \n",
      " 4   zipcode_to                    892653 non-null  object \n",
      " 5   city                          892653 non-null  object \n",
      " 6   delivery_perc                 892653 non-null  int64  \n",
      " 7   num_connections               892653 non-null  int64  \n",
      " 8   perc_of_active_connections    892653 non-null  int64  \n",
      " 9   type_conn_perc                785141 non-null  float64\n",
      " 10  type_of_connection            785072 non-null  object \n",
      " 11  annual_consume                892653 non-null  int64  \n",
      " 12  annual_consume_lowtarif_perc  892653 non-null  int64  \n",
      " 13  smartmeter_perc               892653 non-null  float64\n",
      " 14  year                          892653 non-null  int64  \n",
      "dtypes: float64(2), int64(6), object(7)\n",
      "memory usage: 109.0+ MB\n"
     ]
    }
   ],
   "source": [
    "df_enexis_train.info()"
   ]
  },
  {
   "cell_type": "code",
   "execution_count": 67,
   "metadata": {},
   "outputs": [
    {
     "name": "stdout",
     "output_type": "stream",
     "text": [
      "<class 'pandas.core.frame.DataFrame'>\n",
      "Int64Index: 248749 entries, 0 to 124585\n",
      "Data columns (total 15 columns):\n",
      " #   Column                        Non-Null Count   Dtype  \n",
      "---  ------                        --------------   -----  \n",
      " 0   net_manager                   248749 non-null  object \n",
      " 1   purchase_area                 248749 non-null  object \n",
      " 2   street                        248749 non-null  object \n",
      " 3   zipcode_from                  248749 non-null  object \n",
      " 4   zipcode_to                    248749 non-null  object \n",
      " 5   city                          248749 non-null  object \n",
      " 6   num_connections               248749 non-null  int64  \n",
      " 7   delivery_perc                 248167 non-null  float64\n",
      " 8   perc_of_active_connections    248749 non-null  int64  \n",
      " 9   type_conn_perc                248749 non-null  float64\n",
      " 10  type_of_connection            248749 non-null  object \n",
      " 11  annual_consume                248749 non-null  float64\n",
      " 12  annual_consume_lowtarif_perc  248749 non-null  float64\n",
      " 13  smartmeter_perc               248749 non-null  float64\n",
      " 14  year                          248749 non-null  int64  \n",
      "dtypes: float64(5), int64(3), object(7)\n",
      "memory usage: 30.4+ MB\n"
     ]
    }
   ],
   "source": [
    "df_enexis_test.info()"
   ]
  },
  {
   "cell_type": "code",
   "execution_count": 68,
   "metadata": {},
   "outputs": [
    {
     "data": {
      "text/plain": [
       "net_manager                          0\n",
       "purchase_area                        0\n",
       "street                               0\n",
       "zipcode_from                         0\n",
       "zipcode_to                           0\n",
       "city                                 0\n",
       "delivery_perc                        0\n",
       "num_connections                      0\n",
       "perc_of_active_connections           0\n",
       "type_conn_perc                  107512\n",
       "type_of_connection              107581\n",
       "annual_consume                       0\n",
       "annual_consume_lowtarif_perc         0\n",
       "smartmeter_perc                      0\n",
       "year                                 0\n",
       "dtype: int64"
      ]
     },
     "execution_count": 68,
     "metadata": {},
     "output_type": "execute_result"
    }
   ],
   "source": [
    "df_enexis_train.isnull().sum()"
   ]
  },
  {
   "cell_type": "code",
   "execution_count": 69,
   "metadata": {},
   "outputs": [
    {
     "data": {
      "text/plain": [
       "net_manager                       0\n",
       "purchase_area                     0\n",
       "street                            0\n",
       "zipcode_from                      0\n",
       "zipcode_to                        0\n",
       "city                              0\n",
       "num_connections                   0\n",
       "delivery_perc                   582\n",
       "perc_of_active_connections        0\n",
       "type_conn_perc                    0\n",
       "type_of_connection                0\n",
       "annual_consume                    0\n",
       "annual_consume_lowtarif_perc      0\n",
       "smartmeter_perc                   0\n",
       "year                              0\n",
       "dtype: int64"
      ]
     },
     "execution_count": 69,
     "metadata": {},
     "output_type": "execute_result"
    }
   ],
   "source": [
    "df_enexis_test.isnull().sum()"
   ]
  },
  {
   "cell_type": "code",
   "execution_count": 70,
   "metadata": {},
   "outputs": [
    {
     "data": {
      "text/plain": [
       "array([nan, '1X25', '3X25', '1X35', '3X35', '3X63', '1X40', '3X80',\n",
       "       '3X50', '1X20', '3X40', '1x25', '3x25', '1x35', '1x40', '3x35',\n",
       "       '3x63', '3x80', '3x50', '3x40', '1x20'], dtype=object)"
      ]
     },
     "execution_count": 70,
     "metadata": {},
     "output_type": "execute_result"
    }
   ],
   "source": [
    "df_enexis_train.type_of_connection.unique()"
   ]
  },
  {
   "cell_type": "code",
   "execution_count": 71,
   "metadata": {},
   "outputs": [
    {
     "data": {
      "text/html": [
       "<div>\n",
       "<style scoped>\n",
       "    .dataframe tbody tr th:only-of-type {\n",
       "        vertical-align: middle;\n",
       "    }\n",
       "\n",
       "    .dataframe tbody tr th {\n",
       "        vertical-align: top;\n",
       "    }\n",
       "\n",
       "    .dataframe thead th {\n",
       "        text-align: right;\n",
       "    }\n",
       "</style>\n",
       "<table border=\"1\" class=\"dataframe\">\n",
       "  <thead>\n",
       "    <tr style=\"text-align: right;\">\n",
       "      <th></th>\n",
       "      <th>net_manager</th>\n",
       "      <th>purchase_area</th>\n",
       "      <th>street</th>\n",
       "      <th>zipcode_from</th>\n",
       "      <th>zipcode_to</th>\n",
       "      <th>city</th>\n",
       "      <th>delivery_perc</th>\n",
       "      <th>num_connections</th>\n",
       "      <th>perc_of_active_connections</th>\n",
       "      <th>type_conn_perc</th>\n",
       "      <th>type_of_connection</th>\n",
       "      <th>annual_consume</th>\n",
       "      <th>annual_consume_lowtarif_perc</th>\n",
       "      <th>smartmeter_perc</th>\n",
       "      <th>year</th>\n",
       "    </tr>\n",
       "  </thead>\n",
       "  <tbody>\n",
       "    <tr>\n",
       "      <th>0</th>\n",
       "      <td>Enexis B.V.</td>\n",
       "      <td>ENEXIS</td>\n",
       "      <td>Sasdijk</td>\n",
       "      <td>4251AB</td>\n",
       "      <td>4251AB</td>\n",
       "      <td>WERKENDAM</td>\n",
       "      <td>100</td>\n",
       "      <td>16</td>\n",
       "      <td>100</td>\n",
       "      <td>NaN</td>\n",
       "      <td>NaN</td>\n",
       "      <td>4282</td>\n",
       "      <td>25</td>\n",
       "      <td>0.0</td>\n",
       "      <td>2010</td>\n",
       "    </tr>\n",
       "    <tr>\n",
       "      <th>1</th>\n",
       "      <td>Enexis B.V.</td>\n",
       "      <td>ENEXIS</td>\n",
       "      <td>Sasdijk</td>\n",
       "      <td>4251AC</td>\n",
       "      <td>4251AC</td>\n",
       "      <td>WERKENDAM</td>\n",
       "      <td>100</td>\n",
       "      <td>11</td>\n",
       "      <td>100</td>\n",
       "      <td>NaN</td>\n",
       "      <td>NaN</td>\n",
       "      <td>5113</td>\n",
       "      <td>10</td>\n",
       "      <td>0.0</td>\n",
       "      <td>2010</td>\n",
       "    </tr>\n",
       "    <tr>\n",
       "      <th>2</th>\n",
       "      <td>Enexis B.V.</td>\n",
       "      <td>ENEXIS</td>\n",
       "      <td>Sasdijk</td>\n",
       "      <td>4251AD</td>\n",
       "      <td>4251AD</td>\n",
       "      <td>WERKENDAM</td>\n",
       "      <td>100</td>\n",
       "      <td>30</td>\n",
       "      <td>100</td>\n",
       "      <td>NaN</td>\n",
       "      <td>NaN</td>\n",
       "      <td>4809</td>\n",
       "      <td>34</td>\n",
       "      <td>0.0</td>\n",
       "      <td>2010</td>\n",
       "    </tr>\n",
       "    <tr>\n",
       "      <th>3</th>\n",
       "      <td>Enexis B.V.</td>\n",
       "      <td>ENEXIS</td>\n",
       "      <td>Nieuweweg</td>\n",
       "      <td>4251AE</td>\n",
       "      <td>4251AG</td>\n",
       "      <td>WERKENDAM</td>\n",
       "      <td>100</td>\n",
       "      <td>21</td>\n",
       "      <td>100</td>\n",
       "      <td>NaN</td>\n",
       "      <td>NaN</td>\n",
       "      <td>5015</td>\n",
       "      <td>44</td>\n",
       "      <td>0.0</td>\n",
       "      <td>2010</td>\n",
       "    </tr>\n",
       "    <tr>\n",
       "      <th>4</th>\n",
       "      <td>Enexis B.V.</td>\n",
       "      <td>ENEXIS</td>\n",
       "      <td>Koppenhof</td>\n",
       "      <td>4251AH</td>\n",
       "      <td>4251AH</td>\n",
       "      <td>WERKENDAM</td>\n",
       "      <td>100</td>\n",
       "      <td>12</td>\n",
       "      <td>100</td>\n",
       "      <td>NaN</td>\n",
       "      <td>NaN</td>\n",
       "      <td>3074</td>\n",
       "      <td>22</td>\n",
       "      <td>0.0</td>\n",
       "      <td>2010</td>\n",
       "    </tr>\n",
       "    <tr>\n",
       "      <th>...</th>\n",
       "      <td>...</td>\n",
       "      <td>...</td>\n",
       "      <td>...</td>\n",
       "      <td>...</td>\n",
       "      <td>...</td>\n",
       "      <td>...</td>\n",
       "      <td>...</td>\n",
       "      <td>...</td>\n",
       "      <td>...</td>\n",
       "      <td>...</td>\n",
       "      <td>...</td>\n",
       "      <td>...</td>\n",
       "      <td>...</td>\n",
       "      <td>...</td>\n",
       "      <td>...</td>\n",
       "    </tr>\n",
       "    <tr>\n",
       "      <th>96074</th>\n",
       "      <td>Enexis B.V.</td>\n",
       "      <td>ENEXIS</td>\n",
       "      <td>Ertsstraat</td>\n",
       "      <td>8263BM</td>\n",
       "      <td>8263BN</td>\n",
       "      <td>KAMPEN</td>\n",
       "      <td>86</td>\n",
       "      <td>21</td>\n",
       "      <td>100</td>\n",
       "      <td>29.0</td>\n",
       "      <td>NaN</td>\n",
       "      <td>21348</td>\n",
       "      <td>24</td>\n",
       "      <td>38.0</td>\n",
       "      <td>2017</td>\n",
       "    </tr>\n",
       "    <tr>\n",
       "      <th>96079</th>\n",
       "      <td>Enexis B.V.</td>\n",
       "      <td>ENEXIS</td>\n",
       "      <td>Zambonistraat</td>\n",
       "      <td>8263CC</td>\n",
       "      <td>8263CE</td>\n",
       "      <td>KAMPEN</td>\n",
       "      <td>100</td>\n",
       "      <td>15</td>\n",
       "      <td>100</td>\n",
       "      <td>73.0</td>\n",
       "      <td>NaN</td>\n",
       "      <td>50923</td>\n",
       "      <td>28</td>\n",
       "      <td>80.0</td>\n",
       "      <td>2017</td>\n",
       "    </tr>\n",
       "    <tr>\n",
       "      <th>99746</th>\n",
       "      <td>Enexis B.V.</td>\n",
       "      <td>ENEXIS</td>\n",
       "      <td>Middenweg</td>\n",
       "      <td>9404LL</td>\n",
       "      <td>9404LL</td>\n",
       "      <td>ASSEN</td>\n",
       "      <td>93</td>\n",
       "      <td>15</td>\n",
       "      <td>100</td>\n",
       "      <td>80.0</td>\n",
       "      <td>NaN</td>\n",
       "      <td>53105</td>\n",
       "      <td>42</td>\n",
       "      <td>100.0</td>\n",
       "      <td>2017</td>\n",
       "    </tr>\n",
       "    <tr>\n",
       "      <th>109096</th>\n",
       "      <td>Enexis B.V.</td>\n",
       "      <td>ENEXIS</td>\n",
       "      <td>Wasaweg</td>\n",
       "      <td>9723JD</td>\n",
       "      <td>9723JD</td>\n",
       "      <td>GRONINGEN</td>\n",
       "      <td>96</td>\n",
       "      <td>28</td>\n",
       "      <td>100</td>\n",
       "      <td>32.0</td>\n",
       "      <td>NaN</td>\n",
       "      <td>27448</td>\n",
       "      <td>27</td>\n",
       "      <td>14.0</td>\n",
       "      <td>2017</td>\n",
       "    </tr>\n",
       "    <tr>\n",
       "      <th>115108</th>\n",
       "      <td>Enexis B.V.</td>\n",
       "      <td>ENEXIS</td>\n",
       "      <td>Zeedijk</td>\n",
       "      <td>9976VM</td>\n",
       "      <td>9976VN</td>\n",
       "      <td>LAUWERSOOG</td>\n",
       "      <td>95</td>\n",
       "      <td>21</td>\n",
       "      <td>100</td>\n",
       "      <td>43.0</td>\n",
       "      <td>NaN</td>\n",
       "      <td>33849</td>\n",
       "      <td>43</td>\n",
       "      <td>43.0</td>\n",
       "      <td>2017</td>\n",
       "    </tr>\n",
       "  </tbody>\n",
       "</table>\n",
       "<p>107581 rows × 15 columns</p>\n",
       "</div>"
      ],
      "text/plain": [
       "        net_manager purchase_area         street zipcode_from zipcode_to  \\\n",
       "0       Enexis B.V.        ENEXIS        Sasdijk       4251AB     4251AB   \n",
       "1       Enexis B.V.        ENEXIS        Sasdijk       4251AC     4251AC   \n",
       "2       Enexis B.V.        ENEXIS        Sasdijk       4251AD     4251AD   \n",
       "3       Enexis B.V.        ENEXIS      Nieuweweg       4251AE     4251AG   \n",
       "4       Enexis B.V.        ENEXIS      Koppenhof       4251AH     4251AH   \n",
       "...             ...           ...            ...          ...        ...   \n",
       "96074   Enexis B.V.        ENEXIS     Ertsstraat       8263BM     8263BN   \n",
       "96079   Enexis B.V.        ENEXIS  Zambonistraat       8263CC     8263CE   \n",
       "99746   Enexis B.V.        ENEXIS      Middenweg       9404LL     9404LL   \n",
       "109096  Enexis B.V.        ENEXIS        Wasaweg       9723JD     9723JD   \n",
       "115108  Enexis B.V.        ENEXIS        Zeedijk       9976VM     9976VN   \n",
       "\n",
       "              city  delivery_perc  num_connections  \\\n",
       "0        WERKENDAM            100               16   \n",
       "1        WERKENDAM            100               11   \n",
       "2        WERKENDAM            100               30   \n",
       "3        WERKENDAM            100               21   \n",
       "4        WERKENDAM            100               12   \n",
       "...            ...            ...              ...   \n",
       "96074       KAMPEN             86               21   \n",
       "96079       KAMPEN            100               15   \n",
       "99746        ASSEN             93               15   \n",
       "109096   GRONINGEN             96               28   \n",
       "115108  LAUWERSOOG             95               21   \n",
       "\n",
       "        perc_of_active_connections  type_conn_perc type_of_connection  \\\n",
       "0                              100             NaN                NaN   \n",
       "1                              100             NaN                NaN   \n",
       "2                              100             NaN                NaN   \n",
       "3                              100             NaN                NaN   \n",
       "4                              100             NaN                NaN   \n",
       "...                            ...             ...                ...   \n",
       "96074                          100            29.0                NaN   \n",
       "96079                          100            73.0                NaN   \n",
       "99746                          100            80.0                NaN   \n",
       "109096                         100            32.0                NaN   \n",
       "115108                         100            43.0                NaN   \n",
       "\n",
       "        annual_consume  annual_consume_lowtarif_perc  smartmeter_perc  year  \n",
       "0                 4282                            25              0.0  2010  \n",
       "1                 5113                            10              0.0  2010  \n",
       "2                 4809                            34              0.0  2010  \n",
       "3                 5015                            44              0.0  2010  \n",
       "4                 3074                            22              0.0  2010  \n",
       "...                ...                           ...              ...   ...  \n",
       "96074            21348                            24             38.0  2017  \n",
       "96079            50923                            28             80.0  2017  \n",
       "99746            53105                            42            100.0  2017  \n",
       "109096           27448                            27             14.0  2017  \n",
       "115108           33849                            43             43.0  2017  \n",
       "\n",
       "[107581 rows x 15 columns]"
      ]
     },
     "execution_count": 71,
     "metadata": {},
     "output_type": "execute_result"
    }
   ],
   "source": [
    "df_enexis_train[df_enexis_train.isnull().type_of_connection==True]"
   ]
  },
  {
   "cell_type": "code",
   "execution_count": 72,
   "metadata": {},
   "outputs": [],
   "source": [
    "df_enexis_train['type_of_connection']=df_enexis_train['type_of_connection'].str.replace('x','X')\n",
    "df_enexis_test['type_of_connection']=df_enexis_test['type_of_connection'].str.replace('x','X')"
   ]
  },
  {
   "cell_type": "code",
   "execution_count": 73,
   "metadata": {},
   "outputs": [
    {
     "data": {
      "text/plain": [
       "1X35    313126\n",
       "3X25    236638\n",
       "1X25    198178\n",
       "1X40     30242\n",
       "1X20      4660\n",
       "3X35      1013\n",
       "3X80       372\n",
       "3X63       327\n",
       "3X40       259\n",
       "3X50       257\n",
       "Name: type_of_connection, dtype: int64"
      ]
     },
     "execution_count": 73,
     "metadata": {},
     "output_type": "execute_result"
    }
   ],
   "source": [
    "df_enexis_train['type_of_connection'].value_counts()"
   ]
  },
  {
   "cell_type": "code",
   "execution_count": 74,
   "metadata": {},
   "outputs": [
    {
     "data": {
      "text/plain": [
       "1X35    99092\n",
       "3X25    85405\n",
       "1X25    50096\n",
       "1X40    12391\n",
       "1X20      704\n",
       "3X35      377\n",
       "3X80      295\n",
       "3X63      154\n",
       "3X40      125\n",
       "3X50      110\n",
       "Name: type_of_connection, dtype: int64"
      ]
     },
     "execution_count": 74,
     "metadata": {},
     "output_type": "execute_result"
    }
   ],
   "source": [
    "df_enexis_test['type_of_connection'].value_counts()"
   ]
  },
  {
   "cell_type": "code",
   "execution_count": 75,
   "metadata": {},
   "outputs": [],
   "source": [
    "df_enexis_train['type_of_connection'].fillna('1X35',inplace=True)\n",
    "df_enexis_test['type_of_connection'].fillna('1X35',inplace=True)\n"
   ]
  },
  {
   "cell_type": "code",
   "execution_count": 76,
   "metadata": {},
   "outputs": [
    {
     "data": {
      "text/plain": [
       "net_manager                          0\n",
       "purchase_area                        0\n",
       "street                               0\n",
       "zipcode_from                         0\n",
       "zipcode_to                           0\n",
       "city                                 0\n",
       "delivery_perc                        0\n",
       "num_connections                      0\n",
       "perc_of_active_connections           0\n",
       "type_conn_perc                  107512\n",
       "type_of_connection                   0\n",
       "annual_consume                       0\n",
       "annual_consume_lowtarif_perc         0\n",
       "smartmeter_perc                      0\n",
       "year                                 0\n",
       "dtype: int64"
      ]
     },
     "execution_count": 76,
     "metadata": {},
     "output_type": "execute_result"
    }
   ],
   "source": [
    "df_enexis_train.isnull().sum()"
   ]
  },
  {
   "cell_type": "code",
   "execution_count": 77,
   "metadata": {},
   "outputs": [],
   "source": [
    "val=df_enexis_train[df_enexis_train['type_of_connection']=='1X35']['type_conn_perc'].mode()\n",
    "df_enexis_train['type_conn_perc'].fillna(value=100,inplace=True)\n",
    "df_enexis_test['type_conn_perc'].fillna(value=100,inplace=True)"
   ]
  },
  {
   "cell_type": "code",
   "execution_count": 78,
   "metadata": {},
   "outputs": [
    {
     "data": {
      "text/plain": [
       "net_manager                     0\n",
       "purchase_area                   0\n",
       "street                          0\n",
       "zipcode_from                    0\n",
       "zipcode_to                      0\n",
       "city                            0\n",
       "delivery_perc                   0\n",
       "num_connections                 0\n",
       "perc_of_active_connections      0\n",
       "type_conn_perc                  0\n",
       "type_of_connection              0\n",
       "annual_consume                  0\n",
       "annual_consume_lowtarif_perc    0\n",
       "smartmeter_perc                 0\n",
       "year                            0\n",
       "dtype: int64"
      ]
     },
     "execution_count": 78,
     "metadata": {},
     "output_type": "execute_result"
    }
   ],
   "source": [
    "df_enexis_train.isnull().sum()"
   ]
  },
  {
   "cell_type": "code",
   "execution_count": 79,
   "metadata": {},
   "outputs": [
    {
     "data": {
      "text/plain": [
       "net_manager                       0\n",
       "purchase_area                     0\n",
       "street                            0\n",
       "zipcode_from                      0\n",
       "zipcode_to                        0\n",
       "city                              0\n",
       "num_connections                   0\n",
       "delivery_perc                   582\n",
       "perc_of_active_connections        0\n",
       "type_conn_perc                    0\n",
       "type_of_connection                0\n",
       "annual_consume                    0\n",
       "annual_consume_lowtarif_perc      0\n",
       "smartmeter_perc                   0\n",
       "year                              0\n",
       "dtype: int64"
      ]
     },
     "execution_count": 79,
     "metadata": {},
     "output_type": "execute_result"
    }
   ],
   "source": [
    "df_enexis_test.isnull().sum()"
   ]
  },
  {
   "cell_type": "code",
   "execution_count": 80,
   "metadata": {},
   "outputs": [],
   "source": [
    "df_enexis_test.dropna(inplace=True)"
   ]
  },
  {
   "cell_type": "code",
   "execution_count": 81,
   "metadata": {},
   "outputs": [],
   "source": [
    "df_total=np.vstack((df_enexis_train,df_enexis_test))\n",
    "df_total=pd.DataFrame(df_total)\n",
    "df_total.columns=df_enexis_test.columns"
   ]
  },
  {
   "cell_type": "code",
   "execution_count": 82,
   "metadata": {},
   "outputs": [],
   "source": [
    "df_total_gas=np.vstack((df_enexis_gas_train,df_enexis_gas_test))\n",
    "df_total_gas=pd.DataFrame(df_total_gas)\n",
    "df_total_gas.columns=df_enexis_gas_test.columns"
   ]
  },
  {
   "cell_type": "code",
   "execution_count": 83,
   "metadata": {},
   "outputs": [
    {
     "data": {
      "text/plain": [
       "net_manager                      string\n",
       "purchase_area                    string\n",
       "street                           string\n",
       "zipcode_from                     string\n",
       "zipcode_to                       string\n",
       "city                             string\n",
       "num_connections                   Int64\n",
       "delivery_perc                   float64\n",
       "perc_of_active_connections        Int64\n",
       "type_conn_perc                  float64\n",
       "type_of_connection               string\n",
       "annual_consume                  float64\n",
       "annual_consume_lowtarif_perc    float64\n",
       "smartmeter_perc                 float64\n",
       "year                              Int64\n",
       "dtype: object"
      ]
     },
     "execution_count": 83,
     "metadata": {},
     "output_type": "execute_result"
    }
   ],
   "source": [
    "df_total=df_total.convert_dtypes()\n",
    "df_total.dtypes"
   ]
  },
  {
   "cell_type": "markdown",
   "metadata": {},
   "source": [
    "## Numeric variables are plotted as boxplot . Outliers are identified"
   ]
  },
  {
   "cell_type": "code",
   "execution_count": 84,
   "metadata": {},
   "outputs": [
    {
     "data": {
      "image/png": "[encoded data removed]",
      "text/plain": [
       "<Figure size 1152x1152 with 8 Axes>"
      ]
     },
     "metadata": {
      "needs_background": "light"
     },
     "output_type": "display_data"
    }
   ],
   "source": [
    "cols=[col for col in df_enexis_test.select_dtypes(exclude=['object']).copy()]\n",
    "fig = plt.figure(figsize=(16,16))\n",
    "index=1\n",
    "for col  in cols :\n",
    "    \n",
    "    plt.subplot(6,4,index+1)\n",
    "    index+=1\n",
    "    sns.boxplot(data=df_total,y=col)\n"
   ]
  },
  {
   "cell_type": "code",
   "execution_count": 85,
   "metadata": {},
   "outputs": [
    {
     "data": {
      "text/plain": [
       "['num_connections',\n",
       " 'delivery_perc',\n",
       " 'perc_of_active_connections',\n",
       " 'type_conn_perc',\n",
       " 'annual_consume',\n",
       " 'annual_consume_lowtarif_perc',\n",
       " 'smartmeter_perc',\n",
       " 'year']"
      ]
     },
     "execution_count": 85,
     "metadata": {},
     "output_type": "execute_result"
    }
   ],
   "source": [
    "cols"
   ]
  },
  {
   "cell_type": "code",
   "execution_count": 86,
   "metadata": {},
   "outputs": [
    {
     "data": {
      "text/plain": [
       "<IntegerArray>\n",
       "[100]\n",
       "Length: 1, dtype: Int64"
      ]
     },
     "execution_count": 86,
     "metadata": {},
     "output_type": "execute_result"
    }
   ],
   "source": [
    "df_total.perc_of_active_connections.unique()"
   ]
  },
  {
   "cell_type": "markdown",
   "metadata": {},
   "source": [
    "### Only a single value for perc_of_active_connections and hence can be removed"
   ]
  },
  {
   "cell_type": "code",
   "execution_count": 87,
   "metadata": {},
   "outputs": [
    {
     "data": {
      "text/html": [
       "<div>\n",
       "<style scoped>\n",
       "    .dataframe tbody tr th:only-of-type {\n",
       "        vertical-align: middle;\n",
       "    }\n",
       "\n",
       "    .dataframe tbody tr th {\n",
       "        vertical-align: top;\n",
       "    }\n",
       "\n",
       "    .dataframe thead th {\n",
       "        text-align: right;\n",
       "    }\n",
       "</style>\n",
       "<table border=\"1\" class=\"dataframe\">\n",
       "  <thead>\n",
       "    <tr style=\"text-align: right;\">\n",
       "      <th></th>\n",
       "      <th>count</th>\n",
       "      <th>mean</th>\n",
       "      <th>std</th>\n",
       "      <th>min</th>\n",
       "      <th>25%</th>\n",
       "      <th>50%</th>\n",
       "      <th>75%</th>\n",
       "      <th>max</th>\n",
       "    </tr>\n",
       "  </thead>\n",
       "  <tbody>\n",
       "    <tr>\n",
       "      <th>num_connections</th>\n",
       "      <td>1140820.0</td>\n",
       "      <td>81.029230</td>\n",
       "      <td>32.469391</td>\n",
       "      <td>0.00</td>\n",
       "      <td>86.0</td>\n",
       "      <td>100.0</td>\n",
       "      <td>100.0</td>\n",
       "      <td>631.0</td>\n",
       "    </tr>\n",
       "    <tr>\n",
       "      <th>delivery_perc</th>\n",
       "      <td>1140820.0</td>\n",
       "      <td>36.797082</td>\n",
       "      <td>30.680887</td>\n",
       "      <td>1.09</td>\n",
       "      <td>16.0</td>\n",
       "      <td>22.0</td>\n",
       "      <td>43.0</td>\n",
       "      <td>625.0</td>\n",
       "    </tr>\n",
       "    <tr>\n",
       "      <th>perc_of_active_connections</th>\n",
       "      <td>1140820.0</td>\n",
       "      <td>100.000000</td>\n",
       "      <td>0.000000</td>\n",
       "      <td>100.00</td>\n",
       "      <td>100.0</td>\n",
       "      <td>100.0</td>\n",
       "      <td>100.0</td>\n",
       "      <td>100.0</td>\n",
       "    </tr>\n",
       "    <tr>\n",
       "      <th>type_conn_perc</th>\n",
       "      <td>1140820.0</td>\n",
       "      <td>72.442757</td>\n",
       "      <td>20.473867</td>\n",
       "      <td>0.00</td>\n",
       "      <td>55.0</td>\n",
       "      <td>72.0</td>\n",
       "      <td>92.0</td>\n",
       "      <td>100.0</td>\n",
       "    </tr>\n",
       "    <tr>\n",
       "      <th>annual_consume</th>\n",
       "      <td>1140820.0</td>\n",
       "      <td>4718.827313</td>\n",
       "      <td>3655.139591</td>\n",
       "      <td>53.00</td>\n",
       "      <td>2932.0</td>\n",
       "      <td>3686.0</td>\n",
       "      <td>4916.0</td>\n",
       "      <td>73043.0</td>\n",
       "    </tr>\n",
       "    <tr>\n",
       "      <th>annual_consume_lowtarif_perc</th>\n",
       "      <td>1140820.0</td>\n",
       "      <td>36.706840</td>\n",
       "      <td>16.349286</td>\n",
       "      <td>0.00</td>\n",
       "      <td>25.0</td>\n",
       "      <td>39.0</td>\n",
       "      <td>49.0</td>\n",
       "      <td>100.0</td>\n",
       "    </tr>\n",
       "    <tr>\n",
       "      <th>smartmeter_perc</th>\n",
       "      <td>1140820.0</td>\n",
       "      <td>22.743482</td>\n",
       "      <td>31.476779</td>\n",
       "      <td>0.00</td>\n",
       "      <td>0.0</td>\n",
       "      <td>8.0</td>\n",
       "      <td>30.0</td>\n",
       "      <td>100.0</td>\n",
       "    </tr>\n",
       "    <tr>\n",
       "      <th>year</th>\n",
       "      <td>1140820.0</td>\n",
       "      <td>2014.623158</td>\n",
       "      <td>2.884064</td>\n",
       "      <td>2010.00</td>\n",
       "      <td>2012.0</td>\n",
       "      <td>2015.0</td>\n",
       "      <td>2017.0</td>\n",
       "      <td>2019.0</td>\n",
       "    </tr>\n",
       "  </tbody>\n",
       "</table>\n",
       "</div>"
      ],
      "text/plain": [
       "                                  count         mean          std      min  \\\n",
       "num_connections               1140820.0    81.029230    32.469391     0.00   \n",
       "delivery_perc                 1140820.0    36.797082    30.680887     1.09   \n",
       "perc_of_active_connections    1140820.0   100.000000     0.000000   100.00   \n",
       "type_conn_perc                1140820.0    72.442757    20.473867     0.00   \n",
       "annual_consume                1140820.0  4718.827313  3655.139591    53.00   \n",
       "annual_consume_lowtarif_perc  1140820.0    36.706840    16.349286     0.00   \n",
       "smartmeter_perc               1140820.0    22.743482    31.476779     0.00   \n",
       "year                          1140820.0  2014.623158     2.884064  2010.00   \n",
       "\n",
       "                                 25%     50%     75%      max  \n",
       "num_connections                 86.0   100.0   100.0    631.0  \n",
       "delivery_perc                   16.0    22.0    43.0    625.0  \n",
       "perc_of_active_connections     100.0   100.0   100.0    100.0  \n",
       "type_conn_perc                  55.0    72.0    92.0    100.0  \n",
       "annual_consume                2932.0  3686.0  4916.0  73043.0  \n",
       "annual_consume_lowtarif_perc    25.0    39.0    49.0    100.0  \n",
       "smartmeter_perc                  0.0     8.0    30.0    100.0  \n",
       "year                          2012.0  2015.0  2017.0   2019.0  "
      ]
     },
     "execution_count": 87,
     "metadata": {},
     "output_type": "execute_result"
    }
   ],
   "source": [
    "df_total.describe().T"
   ]
  },
  {
   "cell_type": "code",
   "execution_count": 88,
   "metadata": {},
   "outputs": [
    {
     "data": {
      "text/plain": [
       "array([100.  ,  50.  ,  64.  , ...,  95.4 ,  49.15,  28.07])"
      ]
     },
     "execution_count": 88,
     "metadata": {},
     "output_type": "execute_result"
    }
   ],
   "source": [
    "df_total.type_conn_perc.unique()"
   ]
  },
  {
   "cell_type": "code",
   "execution_count": 89,
   "metadata": {},
   "outputs": [
    {
     "data": {
      "text/html": [
       "<div>\n",
       "<style scoped>\n",
       "    .dataframe tbody tr th:only-of-type {\n",
       "        vertical-align: middle;\n",
       "    }\n",
       "\n",
       "    .dataframe tbody tr th {\n",
       "        vertical-align: top;\n",
       "    }\n",
       "\n",
       "    .dataframe thead th {\n",
       "        text-align: right;\n",
       "    }\n",
       "</style>\n",
       "<table border=\"1\" class=\"dataframe\">\n",
       "  <thead>\n",
       "    <tr style=\"text-align: right;\">\n",
       "      <th></th>\n",
       "      <th>net_manager</th>\n",
       "      <th>purchase_area</th>\n",
       "      <th>street</th>\n",
       "      <th>zipcode_from</th>\n",
       "      <th>zipcode_to</th>\n",
       "      <th>city</th>\n",
       "      <th>num_connections</th>\n",
       "      <th>delivery_perc</th>\n",
       "      <th>perc_of_active_connections</th>\n",
       "      <th>type_conn_perc</th>\n",
       "      <th>type_of_connection</th>\n",
       "      <th>annual_consume</th>\n",
       "      <th>annual_consume_lowtarif_perc</th>\n",
       "      <th>smartmeter_perc</th>\n",
       "      <th>year</th>\n",
       "    </tr>\n",
       "  </thead>\n",
       "  <tbody>\n",
       "    <tr>\n",
       "      <th>136</th>\n",
       "      <td>Enexis B.V.</td>\n",
       "      <td>ENEXIS</td>\n",
       "      <td>Bruningsstraat</td>\n",
       "      <td>4251LA</td>\n",
       "      <td>4251LA</td>\n",
       "      <td>WERKENDAM</td>\n",
       "      <td>100</td>\n",
       "      <td>13.00</td>\n",
       "      <td>100</td>\n",
       "      <td>100.00</td>\n",
       "      <td>1X35</td>\n",
       "      <td>24121.00</td>\n",
       "      <td>37.00</td>\n",
       "      <td>0.00</td>\n",
       "      <td>2010</td>\n",
       "    </tr>\n",
       "    <tr>\n",
       "      <th>137</th>\n",
       "      <td>Enexis B.V.</td>\n",
       "      <td>ENEXIS</td>\n",
       "      <td>Weerenweg</td>\n",
       "      <td>4251LB</td>\n",
       "      <td>4251LC</td>\n",
       "      <td>WERKENDAM</td>\n",
       "      <td>100</td>\n",
       "      <td>41.00</td>\n",
       "      <td>100</td>\n",
       "      <td>100.00</td>\n",
       "      <td>1X35</td>\n",
       "      <td>23127.00</td>\n",
       "      <td>44.00</td>\n",
       "      <td>0.00</td>\n",
       "      <td>2010</td>\n",
       "    </tr>\n",
       "    <tr>\n",
       "      <th>320</th>\n",
       "      <td>Enexis B.V.</td>\n",
       "      <td>ENEXIS</td>\n",
       "      <td>De Hoogjens</td>\n",
       "      <td>4254XV</td>\n",
       "      <td>4254XV</td>\n",
       "      <td>SLEEUWIJK</td>\n",
       "      <td>100</td>\n",
       "      <td>20.00</td>\n",
       "      <td>100</td>\n",
       "      <td>100.00</td>\n",
       "      <td>1X35</td>\n",
       "      <td>21508.00</td>\n",
       "      <td>32.00</td>\n",
       "      <td>0.00</td>\n",
       "      <td>2010</td>\n",
       "    </tr>\n",
       "    <tr>\n",
       "      <th>739</th>\n",
       "      <td>Enexis B.V.</td>\n",
       "      <td>ENEXIS</td>\n",
       "      <td>Middenweg</td>\n",
       "      <td>4281KH</td>\n",
       "      <td>4281KH</td>\n",
       "      <td>ANDEL</td>\n",
       "      <td>100</td>\n",
       "      <td>19.00</td>\n",
       "      <td>100</td>\n",
       "      <td>100.00</td>\n",
       "      <td>1X35</td>\n",
       "      <td>20201.00</td>\n",
       "      <td>54.00</td>\n",
       "      <td>0.00</td>\n",
       "      <td>2010</td>\n",
       "    </tr>\n",
       "    <tr>\n",
       "      <th>1138</th>\n",
       "      <td>Enexis B.V.</td>\n",
       "      <td>ENEXIS</td>\n",
       "      <td>Voetboog</td>\n",
       "      <td>4611MJ</td>\n",
       "      <td>4611MJ</td>\n",
       "      <td>BERGEN OP ZOOM</td>\n",
       "      <td>100</td>\n",
       "      <td>19.00</td>\n",
       "      <td>100</td>\n",
       "      <td>100.00</td>\n",
       "      <td>1X35</td>\n",
       "      <td>22936.00</td>\n",
       "      <td>6.00</td>\n",
       "      <td>0.00</td>\n",
       "      <td>2010</td>\n",
       "    </tr>\n",
       "    <tr>\n",
       "      <th>...</th>\n",
       "      <td>...</td>\n",
       "      <td>...</td>\n",
       "      <td>...</td>\n",
       "      <td>...</td>\n",
       "      <td>...</td>\n",
       "      <td>...</td>\n",
       "      <td>...</td>\n",
       "      <td>...</td>\n",
       "      <td>...</td>\n",
       "      <td>...</td>\n",
       "      <td>...</td>\n",
       "      <td>...</td>\n",
       "      <td>...</td>\n",
       "      <td>...</td>\n",
       "      <td>...</td>\n",
       "    </tr>\n",
       "    <tr>\n",
       "      <th>1140340</th>\n",
       "      <td>Enexis B.V.</td>\n",
       "      <td>ENEXIS</td>\n",
       "      <td>Westlob</td>\n",
       "      <td>9979XJ</td>\n",
       "      <td>9979XL</td>\n",
       "      <td>EEMSHAVEN</td>\n",
       "      <td>12</td>\n",
       "      <td>100.00</td>\n",
       "      <td>100</td>\n",
       "      <td>41.67</td>\n",
       "      <td>3X80</td>\n",
       "      <td>26402.33</td>\n",
       "      <td>37.58</td>\n",
       "      <td>41.67</td>\n",
       "      <td>2019</td>\n",
       "    </tr>\n",
       "    <tr>\n",
       "      <th>1140472</th>\n",
       "      <td>Enexis B.V.</td>\n",
       "      <td>ENEXIS</td>\n",
       "      <td>Eemsweg</td>\n",
       "      <td>9981TN</td>\n",
       "      <td>9981TP</td>\n",
       "      <td>UITHUIZEN</td>\n",
       "      <td>12</td>\n",
       "      <td>91.67</td>\n",
       "      <td>100</td>\n",
       "      <td>58.33</td>\n",
       "      <td>3X25</td>\n",
       "      <td>20542.75</td>\n",
       "      <td>49.23</td>\n",
       "      <td>58.33</td>\n",
       "      <td>2019</td>\n",
       "    </tr>\n",
       "    <tr>\n",
       "      <th>1140554</th>\n",
       "      <td>Enexis B.V.</td>\n",
       "      <td>ENEXIS</td>\n",
       "      <td>Dwarsweg</td>\n",
       "      <td>9982TW</td>\n",
       "      <td>9982TW</td>\n",
       "      <td>UITHUIZERMEEDEN</td>\n",
       "      <td>31</td>\n",
       "      <td>74.19</td>\n",
       "      <td>100</td>\n",
       "      <td>64.52</td>\n",
       "      <td>3X25</td>\n",
       "      <td>22172.84</td>\n",
       "      <td>47.92</td>\n",
       "      <td>48.39</td>\n",
       "      <td>2019</td>\n",
       "    </tr>\n",
       "    <tr>\n",
       "      <th>1140708</th>\n",
       "      <td>Enexis B.V.</td>\n",
       "      <td>ENEXIS</td>\n",
       "      <td>Kloosterweg</td>\n",
       "      <td>9989TB</td>\n",
       "      <td>9989TB</td>\n",
       "      <td>WARFFUM</td>\n",
       "      <td>10</td>\n",
       "      <td>70.00</td>\n",
       "      <td>100</td>\n",
       "      <td>30.00</td>\n",
       "      <td>3X50</td>\n",
       "      <td>20318.50</td>\n",
       "      <td>46.52</td>\n",
       "      <td>90.00</td>\n",
       "      <td>2019</td>\n",
       "    </tr>\n",
       "    <tr>\n",
       "      <th>1140710</th>\n",
       "      <td>Enexis B.V.</td>\n",
       "      <td>ENEXIS</td>\n",
       "      <td>Onderdendamsterweg</td>\n",
       "      <td>9989TG</td>\n",
       "      <td>9989TG</td>\n",
       "      <td>WARFFUM</td>\n",
       "      <td>17</td>\n",
       "      <td>76.47</td>\n",
       "      <td>100</td>\n",
       "      <td>70.59</td>\n",
       "      <td>3X25</td>\n",
       "      <td>22123.06</td>\n",
       "      <td>50.82</td>\n",
       "      <td>58.82</td>\n",
       "      <td>2019</td>\n",
       "    </tr>\n",
       "  </tbody>\n",
       "</table>\n",
       "<p>12994 rows × 15 columns</p>\n",
       "</div>"
      ],
      "text/plain": [
       "         net_manager purchase_area              street zipcode_from  \\\n",
       "136      Enexis B.V.        ENEXIS      Bruningsstraat       4251LA   \n",
       "137      Enexis B.V.        ENEXIS           Weerenweg       4251LB   \n",
       "320      Enexis B.V.        ENEXIS         De Hoogjens       4254XV   \n",
       "739      Enexis B.V.        ENEXIS           Middenweg       4281KH   \n",
       "1138     Enexis B.V.        ENEXIS            Voetboog       4611MJ   \n",
       "...              ...           ...                 ...          ...   \n",
       "1140340  Enexis B.V.        ENEXIS             Westlob       9979XJ   \n",
       "1140472  Enexis B.V.        ENEXIS             Eemsweg       9981TN   \n",
       "1140554  Enexis B.V.        ENEXIS            Dwarsweg       9982TW   \n",
       "1140708  Enexis B.V.        ENEXIS         Kloosterweg       9989TB   \n",
       "1140710  Enexis B.V.        ENEXIS  Onderdendamsterweg       9989TG   \n",
       "\n",
       "        zipcode_to             city  num_connections  delivery_perc  \\\n",
       "136         4251LA        WERKENDAM              100          13.00   \n",
       "137         4251LC        WERKENDAM              100          41.00   \n",
       "320         4254XV        SLEEUWIJK              100          20.00   \n",
       "739         4281KH            ANDEL              100          19.00   \n",
       "1138        4611MJ   BERGEN OP ZOOM              100          19.00   \n",
       "...            ...              ...              ...            ...   \n",
       "1140340     9979XL        EEMSHAVEN               12         100.00   \n",
       "1140472     9981TP        UITHUIZEN               12          91.67   \n",
       "1140554     9982TW  UITHUIZERMEEDEN               31          74.19   \n",
       "1140708     9989TB          WARFFUM               10          70.00   \n",
       "1140710     9989TG          WARFFUM               17          76.47   \n",
       "\n",
       "         perc_of_active_connections  type_conn_perc type_of_connection  \\\n",
       "136                             100          100.00               1X35   \n",
       "137                             100          100.00               1X35   \n",
       "320                             100          100.00               1X35   \n",
       "739                             100          100.00               1X35   \n",
       "1138                            100          100.00               1X35   \n",
       "...                             ...             ...                ...   \n",
       "1140340                         100           41.67               3X80   \n",
       "1140472                         100           58.33               3X25   \n",
       "1140554                         100           64.52               3X25   \n",
       "1140708                         100           30.00               3X50   \n",
       "1140710                         100           70.59               3X25   \n",
       "\n",
       "         annual_consume  annual_consume_lowtarif_perc  smartmeter_perc  year  \n",
       "136            24121.00                         37.00             0.00  2010  \n",
       "137            23127.00                         44.00             0.00  2010  \n",
       "320            21508.00                         32.00             0.00  2010  \n",
       "739            20201.00                         54.00             0.00  2010  \n",
       "1138           22936.00                          6.00             0.00  2010  \n",
       "...                 ...                           ...              ...   ...  \n",
       "1140340        26402.33                         37.58            41.67  2019  \n",
       "1140472        20542.75                         49.23            58.33  2019  \n",
       "1140554        22172.84                         47.92            48.39  2019  \n",
       "1140708        20318.50                         46.52            90.00  2019  \n",
       "1140710        22123.06                         50.82            58.82  2019  \n",
       "\n",
       "[12994 rows x 15 columns]"
      ]
     },
     "execution_count": 89,
     "metadata": {},
     "output_type": "execute_result"
    }
   ],
   "source": [
    "df_total[((df_total['annual_consume'] > 20000) == True)]"
   ]
  },
  {
   "cell_type": "code",
   "execution_count": 90,
   "metadata": {},
   "outputs": [
    {
     "data": {
      "text/plain": [
       "count    1.140820e+06\n",
       "mean     8.102923e+01\n",
       "std      3.246939e+01\n",
       "min      0.000000e+00\n",
       "25%      8.600000e+01\n",
       "50%      1.000000e+02\n",
       "75%      1.000000e+02\n",
       "max      6.310000e+02\n",
       "Name: num_connections, dtype: float64"
      ]
     },
     "execution_count": 90,
     "metadata": {},
     "output_type": "execute_result"
    }
   ],
   "source": [
    "df_total.num_connections.describe().T"
   ]
  },
  {
   "cell_type": "code",
   "execution_count": 91,
   "metadata": {},
   "outputs": [
    {
     "data": {
      "image/png": "[encoded data removed]",
      "text/plain": [
       "<Figure size 1152x1152 with 8 Axes>"
      ]
     },
     "metadata": {
      "needs_background": "light"
     },
     "output_type": "display_data"
    }
   ],
   "source": [
    "#cols=[col for col in df_enexis_test.select_dtypes(exclude=['object']).copy()]\n",
    "fig = plt.figure(figsize=(16,16))\n",
    "index=1\n",
    "for col  in cols :\n",
    "    \n",
    "    plt.subplot(6,4,index+1)\n",
    "    index+=1\n",
    "    sns.distplot(df_total[col],kde=False)\n"
   ]
  },
  {
   "cell_type": "code",
   "execution_count": 92,
   "metadata": {},
   "outputs": [
    {
     "data": {
      "text/plain": [
       "<seaborn.axisgrid.PairGrid at 0x29a3180c248>"
      ]
     },
     "execution_count": 92,
     "metadata": {},
     "output_type": "execute_result"
    },
    {
     "data": {
      "image/png": "[encoded data removed]",
      "text/plain": [
       "<Figure size 360x360 with 6 Axes>"
      ]
     },
     "metadata": {
      "needs_background": "light"
     },
     "output_type": "display_data"
    }
   ],
   "source": [
    "sns.pairplot(df_total,vars=['annual_consume','delivery_perc'])\n",
    "#df_total[:1000]"
   ]
  },
  {
   "cell_type": "code",
   "execution_count": 93,
   "metadata": {},
   "outputs": [
    {
     "data": {
      "text/plain": [
       "<seaborn.axisgrid.PairGrid at 0x29a1e624548>"
      ]
     },
     "execution_count": 93,
     "metadata": {},
     "output_type": "execute_result"
    },
    {
     "data": {
      "image/png": "[encoded data removed]",
      "text/plain": [
       "<Figure size 360x360 with 6 Axes>"
      ]
     },
     "metadata": {
      "needs_background": "light"
     },
     "output_type": "display_data"
    }
   ],
   "source": [
    "sns.pairplot(df_total,vars=['annual_consume','city'])\n"
   ]
  },
  {
   "cell_type": "code",
   "execution_count": 94,
   "metadata": {},
   "outputs": [
    {
     "data": {
      "text/plain": [
       "<seaborn.axisgrid.PairGrid at 0x29a1f49e988>"
      ]
     },
     "execution_count": 94,
     "metadata": {},
     "output_type": "execute_result"
    },
    {
     "data": {
      "image/png": "[encoded data removed]",
      "text/plain": [
       "<Figure size 360x360 with 6 Axes>"
      ]
     },
     "metadata": {
      "needs_background": "light"
     },
     "output_type": "display_data"
    }
   ],
   "source": [
    "sns.pairplot(df_total,vars=['annual_consume','year'])\n"
   ]
  },
  {
   "cell_type": "code",
   "execution_count": 95,
   "metadata": {},
   "outputs": [
    {
     "data": {
      "text/plain": [
       "num_connections                 0.013209\n",
       "delivery_perc                  -0.026135\n",
       "perc_of_active_connections           NaN\n",
       "type_conn_perc                 -0.257307\n",
       "annual_consume                  1.000000\n",
       "annual_consume_lowtarif_perc    0.141767\n",
       "smartmeter_perc                -0.036682\n",
       "year                           -0.044923\n",
       "Name: annual_consume, dtype: float64"
      ]
     },
     "execution_count": 95,
     "metadata": {},
     "output_type": "execute_result"
    },
    {
     "data": {
      "image/png": "[encoded data removed]",
      "text/plain": [
       "<Figure size 432x288 with 2 Axes>"
      ]
     },
     "metadata": {
      "needs_background": "light"
     },
     "output_type": "display_data"
    }
   ],
   "source": [
    "corrval=df_total.corr()\n",
    "fig,ax=plt.subplots()\n",
    "sns.heatmap(corrval,cmap=\"coolwarm\",ax=ax,fmt='.2f',annot=True,linewidths=.05)\n",
    "corrval.annual_consume"
   ]
  },
  {
   "cell_type": "code",
   "execution_count": 96,
   "metadata": {},
   "outputs": [
    {
     "name": "stdout",
     "output_type": "stream",
     "text": [
      "                              num_connections  delivery_perc  \\\n",
      "num_connections                      1.000000      -0.884829   \n",
      "delivery_perc                       -0.884829       1.000000   \n",
      "perc_of_active_connections                NaN            NaN   \n",
      "type_conn_perc                       0.134978      -0.103058   \n",
      "annual_consume                       0.013209      -0.026135   \n",
      "annual_consume_lowtarif_perc        -0.207674       0.182694   \n",
      "smartmeter_perc                     -0.608059       0.537210   \n",
      "year                                -0.729896       0.653173   \n",
      "\n",
      "                              perc_of_active_connections  type_conn_perc  \\\n",
      "num_connections                                      NaN        0.134978   \n",
      "delivery_perc                                        NaN       -0.103058   \n",
      "perc_of_active_connections                           NaN             NaN   \n",
      "type_conn_perc                                       NaN        1.000000   \n",
      "annual_consume                                       NaN       -0.257307   \n",
      "annual_consume_lowtarif_perc                         NaN       -0.115127   \n",
      "smartmeter_perc                                      NaN       -0.135749   \n",
      "year                                                 NaN       -0.266815   \n",
      "\n",
      "                              annual_consume  annual_consume_lowtarif_perc  \\\n",
      "num_connections                     0.013209                     -0.207674   \n",
      "delivery_perc                      -0.026135                      0.182694   \n",
      "perc_of_active_connections               NaN                           NaN   \n",
      "type_conn_perc                     -0.257307                     -0.115127   \n",
      "annual_consume                      1.000000                      0.141767   \n",
      "annual_consume_lowtarif_perc        0.141767                      1.000000   \n",
      "smartmeter_perc                    -0.036682                      0.389551   \n",
      "year                               -0.044923                      0.153233   \n",
      "\n",
      "                              smartmeter_perc      year  \n",
      "num_connections                     -0.608059 -0.729896  \n",
      "delivery_perc                        0.537210  0.653173  \n",
      "perc_of_active_connections                NaN       NaN  \n",
      "type_conn_perc                      -0.135749 -0.266815  \n",
      "annual_consume                      -0.036682 -0.044923  \n",
      "annual_consume_lowtarif_perc         0.389551  0.153233  \n",
      "smartmeter_perc                      1.000000  0.665797  \n",
      "year                                 0.665797  1.000000  \n"
     ]
    }
   ],
   "source": [
    "print(corrval)"
   ]
  },
  {
   "cell_type": "markdown",
   "metadata": {},
   "source": [
    "## Included the Number of smart meters instead of just using hte smart meter percentage"
   ]
  },
  {
   "cell_type": "code",
   "execution_count": 97,
   "metadata": {},
   "outputs": [],
   "source": [
    "df_enexis_train['no_of_smart_meter']=df_enexis_train['smartmeter_perc']*df_enexis_train['num_connections']/100\n",
    "df_enexis_train['no_of_smart_meter']=df_enexis_train['smartmeter_perc']*df_enexis_train['num_connections']/100 \n",
    "df_enexis_test['no_of_smart_meter']=df_enexis_test['smartmeter_perc']*df_enexis_test['num_connections']/100\n",
    "df_enexis_test['no_of_smart_meter']=df_enexis_test['smartmeter_perc']*df_enexis_test['num_connections']/100 \n",
    "df_total['no_of_smart_meter']=df_total['smartmeter_perc']*df_total['num_connections']/100"
   ]
  },
  {
   "cell_type": "markdown",
   "metadata": {},
   "source": [
    "## Included city as category to see if there is correlation "
   ]
  },
  {
   "cell_type": "code",
   "execution_count": 98,
   "metadata": {},
   "outputs": [],
   "source": [
    "uniqueconn=df_total['type_of_connection'].unique()\n",
    "uniqueconn\n",
    "categno= np.arange(0,len(uniqueconn))\n",
    "df_total['typeofconncateg']=df_total['type_of_connection'].replace(to_replace=uniqueconn, value=categno)"
   ]
  },
  {
   "cell_type": "code",
   "execution_count": 99,
   "metadata": {},
   "outputs": [],
   "source": [
    "df_enexis_test['typeofconncateg']=df_enexis_test['type_of_connection'].replace(to_replace=uniqueconn, value=categno)\n",
    "df_enexis_train['typeofconncateg']=df_enexis_train['type_of_connection'].replace(to_replace=uniqueconn, value=categno)\n"
   ]
  },
  {
   "cell_type": "code",
   "execution_count": 100,
   "metadata": {},
   "outputs": [],
   "source": [
    "df_total['city']=df_total['city'].astype('category')\n",
    "df_total['city_cat']=df_total['city'].cat.codes\n",
    "df_enexis_train['city']=df_enexis_train['city'].astype('category')\n",
    "df_enexis_test['city']=df_enexis_test['city'].astype('category')\n",
    "df_enexis_train['city_cat']=df_enexis_train['city'].cat.codes\n",
    "df_enexis_test['city_cat']=df_enexis_test['city'].cat.codes\n"
   ]
  },
  {
   "cell_type": "code",
   "execution_count": 101,
   "metadata": {},
   "outputs": [
    {
     "data": {
      "text/plain": [
       "<AxesSubplot:>"
      ]
     },
     "execution_count": 101,
     "metadata": {},
     "output_type": "execute_result"
    },
    {
     "data": {
      "image/png": "[encoded data removed]",
      "text/plain": [
       "<Figure size 432x288 with 2 Axes>"
      ]
     },
     "metadata": {
      "needs_background": "light"
     },
     "output_type": "display_data"
    }
   ],
   "source": [
    "corrval=df_total.corr()\n",
    "fig,ax=plt.subplots()\n",
    "sns.heatmap(corrval,cmap=\"coolwarm\",ax=ax,fmt='.2f',annot=True,linewidths=.05)\n",
    "#corrval['annual_consume']"
   ]
  },
  {
   "cell_type": "markdown",
   "metadata": {},
   "source": [
    "## Inference from correlation\n",
    "As seen in the correlation map, the city  has very less correlation with annual consumption . Hence this field is removed. \n",
    "The type of connection had a correlation of 0.22 and hence that field is retained. The number of smart meter "
   ]
  },
  {
   "cell_type": "code",
   "execution_count": 102,
   "metadata": {},
   "outputs": [
    {
     "data": {
      "text/plain": [
       "<AxesSubplot:xlabel='typeofconncateg', ylabel='annual_consume'>"
      ]
     },
     "execution_count": 102,
     "metadata": {},
     "output_type": "execute_result"
    },
    {
     "data": {
      "image/png": "[encoded data removed]",
      "text/plain": [
       "<Figure size 432x288 with 1 Axes>"
      ]
     },
     "metadata": {
      "needs_background": "light"
     },
     "output_type": "display_data"
    }
   ],
   "source": [
    "sns.scatterplot(df_total['typeofconncateg'],df_total['annual_consume'])"
   ]
  },
  {
   "cell_type": "code",
   "execution_count": 103,
   "metadata": {},
   "outputs": [
    {
     "data": {
      "text/plain": [
       "<AxesSubplot:xlabel='type_conn_perc', ylabel='annual_consume'>"
      ]
     },
     "execution_count": 103,
     "metadata": {},
     "output_type": "execute_result"
    },
    {
     "data": {
      "image/png": "[encoded data removed]",
      "text/plain": [
       "<Figure size 432x288 with 1 Axes>"
      ]
     },
     "metadata": {
      "needs_background": "light"
     },
     "output_type": "display_data"
    }
   ],
   "source": [
    "sns.scatterplot(df_total['type_conn_perc'],df_total['annual_consume'])"
   ]
  },
  {
   "cell_type": "code",
   "execution_count": 104,
   "metadata": {},
   "outputs": [
    {
     "data": {
      "text/plain": [
       "<AxesSubplot:xlabel='delivery_perc', ylabel='annual_consume'>"
      ]
     },
     "execution_count": 104,
     "metadata": {},
     "output_type": "execute_result"
    },
    {
     "data": {
      "image/png": "[encoded data removed]",
      "text/plain": [
       "<Figure size 432x288 with 1 Axes>"
      ]
     },
     "metadata": {
      "needs_background": "light"
     },
     "output_type": "display_data"
    }
   ],
   "source": [
    "sns.scatterplot(df_total['delivery_perc'],df_total['annual_consume'])"
   ]
  },
  {
   "cell_type": "code",
   "execution_count": 105,
   "metadata": {},
   "outputs": [],
   "source": [
    "df_enexis_test.drop(columns=['net_manager','street','city'],inplace=True)\n",
    "df_enexis_test.drop(columns=['type_of_connection','city_cat'],inplace=True)\n",
    "df_enexis_test.drop(columns=['purchase_area','zipcode_from','zipcode_to'],inplace=True)\n",
    "df_enexis_train.drop(columns=['net_manager','street','city'],inplace=True)\n",
    "df_enexis_train.drop(columns=['type_of_connection','city_cat'],inplace=True)\n",
    "df_enexis_train.drop(columns=['purchase_area','zipcode_from','zipcode_to'],inplace=True)\n",
    "df_enexis_train.drop(columns=['perc_of_active_connections'],inplace=True)\n",
    "df_enexis_test.drop(columns=['perc_of_active_connections'],inplace=True)\n"
   ]
  },
  {
   "cell_type": "code",
   "execution_count": 106,
   "metadata": {},
   "outputs": [],
   "source": [
    "X_train = df_enexis_train.iloc[:,df_enexis_train.columns != 'annual_consume'].values\n",
    "Y_train=df_enexis_train.iloc[:,df_enexis_train.columns == 'annual_consume'].values\n",
    "x_test = df_enexis_test.iloc[:,df_enexis_test.columns != 'annual_consume'].values\n",
    "y_test=df_enexis_test.iloc[:,df_enexis_test.columns == 'annual_consume'].values\n"
   ]
  },
  {
   "cell_type": "code",
   "execution_count": 107,
   "metadata": {},
   "outputs": [
    {
     "data": {
      "text/plain": [
       "Index(['num_connections', 'delivery_perc', 'type_conn_perc', 'annual_consume',\n",
       "       'annual_consume_lowtarif_perc', 'smartmeter_perc', 'year',\n",
       "       'no_of_smart_meter', 'typeofconncateg'],\n",
       "      dtype='object')"
      ]
     },
     "execution_count": 107,
     "metadata": {},
     "output_type": "execute_result"
    }
   ],
   "source": [
    "df_enexis_test.columns"
   ]
  },
  {
   "cell_type": "code",
   "execution_count": 108,
   "metadata": {},
   "outputs": [
    {
     "data": {
      "text/plain": [
       "(892653, 8)"
      ]
     },
     "execution_count": 108,
     "metadata": {},
     "output_type": "execute_result"
    }
   ],
   "source": [
    "X_train.shape"
   ]
  },
  {
   "cell_type": "code",
   "execution_count": 109,
   "metadata": {},
   "outputs": [],
   "source": [
    "\n",
    "sc=StandardScaler()\n",
    "X_train=sc.fit_transform(X_train)\n",
    "x_test=sc.transform(x_test)\n",
    "#x_poly=sc.fit_transform(x_poly)"
   ]
  },
  {
   "cell_type": "code",
   "execution_count": 110,
   "metadata": {},
   "outputs": [
    {
     "name": "stdout",
     "output_type": "stream",
     "text": [
      "RMSE 3340.1041401596535\n",
      "R2 Score -5.484121452494743\n",
      "RMSE for test data 3648.058716960568\n",
      "Score 0.11613324557118399\n"
     ]
    }
   ],
   "source": [
    "\n",
    "linrregrmodel=LinearRegression()\n",
    "linrregrmodel.fit(X_train,Y_train)\n",
    "\n",
    "ypred=linrregrmodel.predict(X_train)\n",
    "print(\"RMSE\",math.sqrt(mean_squared_error(ypred,Y_train)))\n",
    "print(\"R2 Score\",r2_score(ypred,Y_train))\n",
    "ytest_pred=linrregrmodel.predict(x_test)\n",
    "print(\"RMSE for test data\",math.sqrt(mean_squared_error(ytest_pred,y_test)))\n",
    "print(\"Score\",linrregrmodel.score(x_test,y_test))"
   ]
  },
  {
   "cell_type": "code",
   "execution_count": 111,
   "metadata": {
    "scrolled": false
   },
   "outputs": [
    {
     "name": "stderr",
     "output_type": "stream",
     "text": [
      "c:\\python37\\lib\\site-packages\\sklearn\\utils\\validation.py:73: DataConversionWarning: A column-vector y was passed when a 1d array was expected. Please change the shape of y to (n_samples, ), for example using ravel().\n",
      "  return f(**kwargs)\n"
     ]
    },
    {
     "data": {
      "text/plain": [
       "LassoCV(cv=10, max_iter=100000, normalize=True)"
      ]
     },
     "execution_count": 111,
     "metadata": {},
     "output_type": "execute_result"
    }
   ],
   "source": [
    "lasscv = LassoCV(alphas = None,cv =10, max_iter = 100000, normalize = True)\n",
    "lasscv.fit(X_train, Y_train)"
   ]
  },
  {
   "cell_type": "code",
   "execution_count": 112,
   "metadata": {},
   "outputs": [
    {
     "data": {
      "text/plain": [
       "0.008110136290716816"
      ]
     },
     "execution_count": 112,
     "metadata": {},
     "output_type": "execute_result"
    }
   ],
   "source": [
    "# best alpha parameter\n",
    "alpha = lasscv.alpha_\n",
    "alpha"
   ]
  },
  {
   "cell_type": "code",
   "execution_count": 113,
   "metadata": {},
   "outputs": [
    {
     "data": {
      "text/plain": [
       "Lasso(alpha=0.008110136290716816)"
      ]
     },
     "execution_count": 113,
     "metadata": {},
     "output_type": "execute_result"
    }
   ],
   "source": [
    "lasso_reg = Lasso(alpha)\n",
    "lasso_reg.fit(X_train, Y_train)"
   ]
  },
  {
   "cell_type": "code",
   "execution_count": 114,
   "metadata": {},
   "outputs": [
    {
     "data": {
      "text/plain": [
       "0.11612730803042903"
      ]
     },
     "execution_count": 114,
     "metadata": {},
     "output_type": "execute_result"
    }
   ],
   "source": [
    "lasso_reg.score(x_test, y_test)"
   ]
  },
  {
   "cell_type": "code",
   "execution_count": 115,
   "metadata": {},
   "outputs": [
    {
     "data": {
      "text/plain": [
       "0.11613324577085882"
      ]
     },
     "execution_count": 115,
     "metadata": {},
     "output_type": "execute_result"
    }
   ],
   "source": [
    "alphas = np.random.uniform(low=0, high=10, size=(50,))\n",
    "ridgecv = RidgeCV(alphas = alphas,cv=10,normalize = True)\n",
    "ridgecv.fit(X_train, Y_train)\n",
    "ridge_model = Ridge(alpha=ridgecv.alpha_)\n",
    "ridge_model.fit(X_train, Y_train)\n",
    "ridge_model.score(x_test, y_test)"
   ]
  },
  {
   "cell_type": "code",
   "execution_count": 116,
   "metadata": {},
   "outputs": [
    {
     "name": "stdout",
     "output_type": "stream",
     "text": [
      "RMSE is 3340.1041401596694\n"
     ]
    }
   ],
   "source": [
    "ypred_ridge=ridge_model.predict(X_train)\n",
    "print(\"RMSE is\",math.sqrt(mean_squared_error(ypred_ridge,Y_train)))"
   ]
  },
  {
   "cell_type": "code",
   "execution_count": 117,
   "metadata": {},
   "outputs": [
    {
     "name": "stderr",
     "output_type": "stream",
     "text": [
      "c:\\python37\\lib\\site-packages\\sklearn\\utils\\validation.py:73: DataConversionWarning: A column-vector y was passed when a 1d array was expected. Please change the shape of y to (n_samples, ), for example using ravel().\n",
      "  return f(**kwargs)\n"
     ]
    },
    {
     "data": {
      "text/plain": [
       "0.08707609853688536"
      ]
     },
     "execution_count": 117,
     "metadata": {},
     "output_type": "execute_result"
    }
   ],
   "source": [
    "elasticCV = ElasticNetCV(alphas = None, cv =10)\n",
    "\n",
    "elasticCV.fit(X_train, Y_train)\n",
    "elasticnet_reg = ElasticNet(alpha = elasticCV.alpha_,l1_ratio=elasticCV.l1_ratio)\n",
    "elasticnet_reg.fit(X_train, Y_train)\n",
    "elasticnet_reg.score(x_test, y_test)"
   ]
  },
  {
   "cell_type": "code",
   "execution_count": 118,
   "metadata": {},
   "outputs": [
    {
     "data": {
      "text/plain": [
       "(892653, 45)"
      ]
     },
     "execution_count": 118,
     "metadata": {},
     "output_type": "execute_result"
    }
   ],
   "source": [
    "\n",
    "polynomial_features= PolynomialFeatures(degree=2)\n",
    "x_poly = polynomial_features.fit_transform(X_train)\n",
    "x_test_poly = polynomial_features.fit_transform(x_test)\n",
    "\n",
    "x_poly.shape\n"
   ]
  },
  {
   "cell_type": "code",
   "execution_count": 119,
   "metadata": {},
   "outputs": [],
   "source": [
    "\n",
    "sc1=StandardScaler()\n",
    "x_train_poly=sc1.fit_transform(x_poly)\n",
    "x_test_poly=sc1.transform(x_test_poly)\n",
    "#x_poly=sc.fit_transform(x_poly)"
   ]
  },
  {
   "cell_type": "code",
   "execution_count": 120,
   "metadata": {},
   "outputs": [
    {
     "name": "stdout",
     "output_type": "stream",
     "text": [
      "RMSE 3178.2664648287773\n",
      "R2 Score -2.6396840938002666\n",
      "RMSE for test data 226725846578016.47\n",
      "Score -3.4140134160641116e+21\n"
     ]
    }
   ],
   "source": [
    "polyregr=LinearRegression()\n",
    "polyregr.fit(x_train_poly,Y_train)\n",
    "\n",
    "ypred=polyregr.predict(x_train_poly)\n",
    "print(\"RMSE\",math.sqrt(mean_squared_error(ypred,Y_train)))\n",
    "print(\"R2 Score\",r2_score(ypred,Y_train))\n",
    "ytest_pred=polyregr.predict(x_test_poly)\n",
    "print(\"RMSE for test data\",math.sqrt(mean_squared_error(ytest_pred,y_test)))\n",
    "print(\"Score\",polyregr.score(x_test_poly,y_test))"
   ]
  },
  {
   "cell_type": "code",
   "execution_count": 121,
   "metadata": {},
   "outputs": [
    {
     "name": "stderr",
     "output_type": "stream",
     "text": [
      "c:\\python37\\lib\\site-packages\\ipykernel_launcher.py:2: DataConversionWarning: A column-vector y was passed when a 1d array was expected. Please change the shape of y to (n_samples,), for example using ravel().\n",
      "  \n"
     ]
    },
    {
     "name": "stdout",
     "output_type": "stream",
     "text": [
      "RMSE 1745.410745611098\n",
      "R2 Score 0.6220634023429318\n"
     ]
    }
   ],
   "source": [
    "\n",
    "regr=RandomForestRegressor()\n",
    "regr.fit(X_train,Y_train)\n",
    "ypred=regr.predict(X_train)\n",
    "print(\"RMSE\",math.sqrt(mean_squared_error(ypred,Y_train)))\n",
    "print(\"R2 Score\",r2_score(ypred,Y_train))\n",
    "regr.score(x_test,y_test)\n",
    "Y_pred=regr.predict(x_test)"
   ]
  },
  {
   "cell_type": "code",
   "execution_count": 122,
   "metadata": {},
   "outputs": [
    {
     "name": "stdout",
     "output_type": "stream",
     "text": [
      "RMSE 3162.291980828654\n",
      "Score is  0.3358485999124219\n"
     ]
    }
   ],
   "source": [
    "Y_pred=regr.predict(x_test)\n",
    "print(\"RMSE\",math.sqrt(mean_squared_error(Y_pred,y_test)))\n",
    "print(\"Score is \",regr.score(x_test,y_test))\n"
   ]
  },
  {
   "cell_type": "code",
   "execution_count": 123,
   "metadata": {},
   "outputs": [
    {
     "data": {
      "text/plain": [
       "Text(0.5, 1.0, 'Y_pred Vs y_test')"
      ]
     },
     "execution_count": 123,
     "metadata": {},
     "output_type": "execute_result"
    },
    {
     "data": {
      "image/png": "[encoded data removed]",
      "text/plain": [
       "<Figure size 432x288 with 1 Axes>"
      ]
     },
     "metadata": {
      "needs_background": "light"
     },
     "output_type": "display_data"
    }
   ],
   "source": [
    "plt.scatter(Y_pred,y_test)\n",
    "plt.xlabel(\"Predicted Value\")\n",
    "plt.ylabel(\"Actual Value \")\n",
    "plt.title(\"Y_pred Vs y_test\")"
   ]
  },
  {
   "cell_type": "code",
   "execution_count": 124,
   "metadata": {},
   "outputs": [
    {
     "name": "stdout",
     "output_type": "stream",
     "text": [
      "16 2606.288855570267 0.06250524931507428\n",
      "17 2557.9502652750725 -0.0359952688103804\n",
      "18 2505.218699434033 -0.26459966894718057\n",
      "19 2446.2797908658335 -0.3269910471012303\n",
      "20 2383.4379719620415 -0.35274152669256087\n",
      "21 2314.7482668783114 -0.05918300816959432\n",
      "22 2239.3068453919805 -0.35683494983613984\n",
      "23 2163.838532427971 -0.3590626829806576\n",
      "24 2088.1194400360073 -0.09018517559489658\n",
      "25 2011.8519885581293 -0.34622426600852463\n",
      "26 1937.0734830954364 -0.39882528237340953\n",
      "27 1865.5454824364797 -0.2983803562416887\n",
      "28 1801.9265509668 -0.3960985440343532\n",
      "29 1745.9751162885318 -0.3169133031726039\n",
      "30 1698.71409710254 -0.08532141829239004\n",
      "31 1658.8021835796565 -0.35930143262383174\n",
      "32 1627.9578872059517 -0.3447328184655407\n",
      "33 1605.4099246776966 -0.3384024884046135\n",
      "34 1588.2920043637926 -0.3332925841477494\n",
      "35 1575.1862004092045 -0.0564500047393135\n",
      "36 1566.4334342003467 -0.07954912945121695\n",
      "37 1560.4054900066753 -0.3531250666638772\n",
      "38 1556.8681540296486 -0.0938711596619688\n",
      "39 1554.252744751622 -0.3155700594216537\n"
     ]
    }
   ],
   "source": [
    "\n",
    "for i in range(16,40):\n",
    "    dectree=DecisionTreeRegressor(max_depth=i)\n",
    "    dectree.fit(X_train,Y_train)\n",
    "    ytrain_pred=dectree.predict(X_train)\n",
    "    print(i,np.sqrt(mean_squared_error(ytrain_pred,Y_train)),dectree.score(x_test,y_test))"
   ]
  },
  {
   "cell_type": "code",
   "execution_count": 125,
   "metadata": {},
   "outputs": [
    {
     "name": "stdout",
     "output_type": "stream",
     "text": [
      "16 2606.288855570267 -0.11647245812870621\n",
      "17 2557.9502652750725 -0.03305584504305581\n",
      "18 2505.218699434033 0.0491779532508162\n",
      "19 2446.279790587405 0.13177706834785607\n",
      "20 2383.437967049072 0.2105729512065434\n",
      "21 2314.7479871817573 0.2873779385584839\n",
      "22 2239.305801524964 0.36221572735376895\n",
      "23 2163.8390071855074 0.4286274915177988\n",
      "24 2088.1194400360077 0.48803065449505634\n",
      "25 2011.851954671748 0.5415778572131447\n",
      "26 1937.0740748177443 0.5887756570117975\n",
      "27 1865.5456350331472 0.6296252152157756\n",
      "28 1801.9265509793893 0.6628277510072776\n",
      "29 1745.975191827603 0.6898353365304939\n",
      "30 1698.714286537422 0.7111834450353274\n",
      "31 1658.8027328818641 0.7282404691199255\n",
      "32 1627.9578872059517 0.7408478302917476\n",
      "33 1605.4099246776966 0.7497608328704788\n",
      "34 1588.2920043637926 0.756362030770994\n",
      "35 1575.1862004092045 0.7613219115878339\n",
      "36 1566.4334342003467 0.764589737330332\n",
      "37 1560.4054900066753 0.766819726762443\n",
      "38 1556.8681540296486 0.7681206039500319\n",
      "39 1554.252744751622 0.7690787799686328\n"
     ]
    }
   ],
   "source": [
    "\n",
    "for i in range(16,40):\n",
    "    dectree=DecisionTreeRegressor(max_depth=i)\n",
    "    dectree.fit(X_train,Y_train)\n",
    "    ytrain_pred=dectree.predict(X_train)\n",
    "    print(i,np.sqrt(mean_squared_error(ytrain_pred,Y_train)),r2_score(ytrain_pred,Y_train))"
   ]
  },
  {
   "cell_type": "code",
   "execution_count": 126,
   "metadata": {},
   "outputs": [
    {
     "name": "stdout",
     "output_type": "stream",
     "text": [
      "R2 score is  -0.1957821937771036\n",
      "RMSE for testing data  3845.214250514017\n",
      "Score is  0.01801637602178907\n",
      "R2 score for test data is -0.566149463898945\n"
     ]
    }
   ],
   "source": [
    "dectreefin=DecisionTreeRegressor(max_depth=15)\n",
    "dectreefin.fit(X_train,Y_train)\n",
    "y_pred_train=dectreefin.predict(X_train)\n",
    "y_pred_dec=dectreefin.predict(x_test)\n",
    "print(\"R2 score is \",r2_score(y_pred_train,Y_train))\n",
    "print(\"RMSE for testing data \",math.sqrt(mean_squared_error(y_pred_dec,y_test)))\n",
    "print(\"Score is \",dectreefin.score(x_test,y_test))\n",
    "print(\"R2 score for test data is\", r2_score(y_pred_dec,y_test))"
   ]
  },
  {
   "cell_type": "code",
   "execution_count": 127,
   "metadata": {},
   "outputs": [
    {
     "data": {
      "text/html": [
       "<div>\n",
       "<style scoped>\n",
       "    .dataframe tbody tr th:only-of-type {\n",
       "        vertical-align: middle;\n",
       "    }\n",
       "\n",
       "    .dataframe tbody tr th {\n",
       "        vertical-align: top;\n",
       "    }\n",
       "\n",
       "    .dataframe thead th {\n",
       "        text-align: right;\n",
       "    }\n",
       "</style>\n",
       "<table border=\"1\" class=\"dataframe\">\n",
       "  <thead>\n",
       "    <tr style=\"text-align: right;\">\n",
       "      <th></th>\n",
       "      <th>annual_consume</th>\n",
       "    </tr>\n",
       "    <tr>\n",
       "      <th>year</th>\n",
       "      <th></th>\n",
       "    </tr>\n",
       "  </thead>\n",
       "  <tbody>\n",
       "    <tr>\n",
       "      <th>2010</th>\n",
       "      <td>5.265813e+08</td>\n",
       "    </tr>\n",
       "    <tr>\n",
       "      <th>2011</th>\n",
       "      <td>5.310414e+08</td>\n",
       "    </tr>\n",
       "    <tr>\n",
       "      <th>2012</th>\n",
       "      <td>5.416147e+08</td>\n",
       "    </tr>\n",
       "    <tr>\n",
       "      <th>2013</th>\n",
       "      <td>5.549411e+08</td>\n",
       "    </tr>\n",
       "    <tr>\n",
       "      <th>2014</th>\n",
       "      <td>5.499293e+08</td>\n",
       "    </tr>\n",
       "    <tr>\n",
       "      <th>2015</th>\n",
       "      <td>5.327039e+08</td>\n",
       "    </tr>\n",
       "    <tr>\n",
       "      <th>2016</th>\n",
       "      <td>5.052923e+08</td>\n",
       "    </tr>\n",
       "    <tr>\n",
       "      <th>2017</th>\n",
       "      <td>5.146683e+08</td>\n",
       "    </tr>\n",
       "    <tr>\n",
       "      <th>2018</th>\n",
       "      <td>5.680565e+08</td>\n",
       "    </tr>\n",
       "    <tr>\n",
       "      <th>2019</th>\n",
       "      <td>5.585037e+08</td>\n",
       "    </tr>\n",
       "  </tbody>\n",
       "</table>\n",
       "</div>"
      ],
      "text/plain": [
       "      annual_consume\n",
       "year                \n",
       "2010    5.265813e+08\n",
       "2011    5.310414e+08\n",
       "2012    5.416147e+08\n",
       "2013    5.549411e+08\n",
       "2014    5.499293e+08\n",
       "2015    5.327039e+08\n",
       "2016    5.052923e+08\n",
       "2017    5.146683e+08\n",
       "2018    5.680565e+08\n",
       "2019    5.585037e+08"
      ]
     },
     "execution_count": 127,
     "metadata": {},
     "output_type": "execute_result"
    }
   ],
   "source": [
    "df_yearwise_elect=pd.DataFrame(df_total.groupby('year').sum()['annual_consume'])\n",
    "df_yearwise_elect"
   ]
  },
  {
   "cell_type": "code",
   "execution_count": 128,
   "metadata": {},
   "outputs": [
    {
     "data": {
      "text/plain": [
       "Text(0, 0.5, 'Annual Consumption')"
      ]
     },
     "execution_count": 128,
     "metadata": {},
     "output_type": "execute_result"
    },
    {
     "data": {
      "image/png": "[encoded data removed]",
      "text/plain": [
       "<Figure size 432x288 with 1 Axes>"
      ]
     },
     "metadata": {
      "needs_background": "light"
     },
     "output_type": "display_data"
    }
   ],
   "source": [
    "columns=['year','total consume']\n",
    "plt.subplots()\n",
    "plt.plot(df_yearwise_elect['annual_consume'])\n",
    "plt.title('Year Vs Annual Consumption')\n",
    "plt.xlabel('Year')\n",
    "plt.ylabel('Annual Consumption')"
   ]
  },
  {
   "cell_type": "code",
   "execution_count": 129,
   "metadata": {},
   "outputs": [
    {
     "data": {
      "text/plain": [
       "array([[3839.42      ],\n",
       "       [3667.64      ],\n",
       "       [1799.07      ],\n",
       "       ...,\n",
       "       [2617.89083333],\n",
       "       [5053.32      ],\n",
       "       [4652.76      ]])"
      ]
     },
     "execution_count": 129,
     "metadata": {},
     "output_type": "execute_result"
    }
   ],
   "source": [
    "Y_pred.reshape(-1,1)"
   ]
  },
  {
   "cell_type": "code",
   "execution_count": 130,
   "metadata": {},
   "outputs": [],
   "source": [
    "datacomb=pd.DataFrame(np.hstack((df_enexis_test.drop(columns=('annual_consume')),Y_pred.reshape(-1,1))))\n",
    "#collist=df_enexis_test.columns\n",
    "collist=['num_connections', 'delivery_perc', 'type_conn_perc',\n",
    "       'annual_consume_lowtarif_perc', 'smartmeter_perc', 'year',\n",
    "       'no_of_smart_meter', 'typeofconncateg','annual_consume']\n",
    "datacomb.columns=collist\n",
    "df_year_pred_anlcons=pd.DataFrame(datacomb.groupby('year').sum()['annual_consume'])"
   ]
  },
  {
   "cell_type": "code",
   "execution_count": 131,
   "metadata": {},
   "outputs": [
    {
     "data": {
      "text/html": [
       "<div>\n",
       "<style scoped>\n",
       "    .dataframe tbody tr th:only-of-type {\n",
       "        vertical-align: middle;\n",
       "    }\n",
       "\n",
       "    .dataframe tbody tr th {\n",
       "        vertical-align: top;\n",
       "    }\n",
       "\n",
       "    .dataframe thead th {\n",
       "        text-align: right;\n",
       "    }\n",
       "</style>\n",
       "<table border=\"1\" class=\"dataframe\">\n",
       "  <thead>\n",
       "    <tr style=\"text-align: right;\">\n",
       "      <th></th>\n",
       "      <th>yearlst</th>\n",
       "      <th>act_cons</th>\n",
       "      <th>pred_cons</th>\n",
       "    </tr>\n",
       "  </thead>\n",
       "  <tbody>\n",
       "    <tr>\n",
       "      <th>0</th>\n",
       "      <td>2018</td>\n",
       "      <td>5.680565e+08</td>\n",
       "      <td>5.184901e+08</td>\n",
       "    </tr>\n",
       "    <tr>\n",
       "      <th>1</th>\n",
       "      <td>2019</td>\n",
       "      <td>5.585037e+08</td>\n",
       "      <td>5.145268e+08</td>\n",
       "    </tr>\n",
       "  </tbody>\n",
       "</table>\n",
       "</div>"
      ],
      "text/plain": [
       "  yearlst      act_cons     pred_cons\n",
       "0    2018  5.680565e+08  5.184901e+08\n",
       "1    2019  5.585037e+08  5.145268e+08"
      ]
     },
     "execution_count": 131,
     "metadata": {},
     "output_type": "execute_result"
    }
   ],
   "source": [
    "df_year_actual_anlcons=pd.DataFrame(df_enexis_test.groupby('year').sum()['annual_consume'])\n",
    "actlist=[]\n",
    "actlist.append(df_year_actual_anlcons['annual_consume'][2018])\n",
    "actlist.append(df_year_actual_anlcons['annual_consume'][2019])\n",
    "yearlst=['2018','2019']\n",
    "predlist=[]\n",
    "predlist.append(df_year_pred_anlcons['annual_consume'][2018])\n",
    "predlist.append(df_year_pred_anlcons['annual_consume'][2019]) \n",
    "dmap={'yearlst':yearlst,'act_cons':actlist,'pred_cons': predlist}\n",
    "df=pd.DataFrame(dmap)\n",
    "df"
   ]
  },
  {
   "cell_type": "code",
   "execution_count": 132,
   "metadata": {},
   "outputs": [
    {
     "data": {
      "text/plain": [
       "<matplotlib.legend.Legend at 0x29a23a46d88>"
      ]
     },
     "execution_count": 132,
     "metadata": {},
     "output_type": "execute_result"
    },
    {
     "data": {
      "text/plain": [
       "<Figure size 1152x1152 with 0 Axes>"
      ]
     },
     "metadata": {},
     "output_type": "display_data"
    },
    {
     "data": {
      "image/png": "[encoded data removed]",
      "text/plain": [
       "<Figure size 432x288 with 1 Axes>"
      ]
     },
     "metadata": {
      "needs_background": "light"
     },
     "output_type": "display_data"
    }
   ],
   "source": [
    "fig = plt.figure(figsize=(16,16))\n",
    "plt.subplots()\n",
    "p1=plt.bar(yearlst,actlist,color='tab:orange')\n",
    "p2=plt.bar(yearlst,predlist,color='tab:blue')\n",
    "plt.title(\"Year wise consumption \")\n",
    "plt.xlabel(\"Year\")\n",
    "plt.ylabel(\"Annual Consumption\")\n",
    "plt.legend((p1[0],p2[0]),(\"Actual\",\"Predicted\"),loc='center')\n"
   ]
  },
  {
   "cell_type": "code",
   "execution_count": 133,
   "metadata": {},
   "outputs": [
    {
     "data": {
      "text/html": [
       "<div>\n",
       "<style scoped>\n",
       "    .dataframe tbody tr th:only-of-type {\n",
       "        vertical-align: middle;\n",
       "    }\n",
       "\n",
       "    .dataframe tbody tr th {\n",
       "        vertical-align: top;\n",
       "    }\n",
       "\n",
       "    .dataframe thead th {\n",
       "        text-align: right;\n",
       "    }\n",
       "</style>\n",
       "<table border=\"1\" class=\"dataframe\">\n",
       "  <thead>\n",
       "    <tr style=\"text-align: right;\">\n",
       "      <th></th>\n",
       "      <th>annual_consume</th>\n",
       "    </tr>\n",
       "    <tr>\n",
       "      <th>year</th>\n",
       "      <th></th>\n",
       "    </tr>\n",
       "  </thead>\n",
       "  <tbody>\n",
       "    <tr>\n",
       "      <th>2010</th>\n",
       "      <td>1.803985e+08</td>\n",
       "    </tr>\n",
       "    <tr>\n",
       "      <th>2011</th>\n",
       "      <td>1.817192e+08</td>\n",
       "    </tr>\n",
       "    <tr>\n",
       "      <th>2012</th>\n",
       "      <td>1.928442e+08</td>\n",
       "    </tr>\n",
       "    <tr>\n",
       "      <th>2013</th>\n",
       "      <td>1.959069e+08</td>\n",
       "    </tr>\n",
       "    <tr>\n",
       "      <th>2014</th>\n",
       "      <td>1.906245e+08</td>\n",
       "    </tr>\n",
       "    <tr>\n",
       "      <th>2015</th>\n",
       "      <td>1.840054e+08</td>\n",
       "    </tr>\n",
       "    <tr>\n",
       "      <th>2016</th>\n",
       "      <td>1.578030e+08</td>\n",
       "    </tr>\n",
       "    <tr>\n",
       "      <th>2017</th>\n",
       "      <td>1.906399e+08</td>\n",
       "    </tr>\n",
       "    <tr>\n",
       "      <th>2018</th>\n",
       "      <td>2.115056e+08</td>\n",
       "    </tr>\n",
       "    <tr>\n",
       "      <th>2019</th>\n",
       "      <td>2.093344e+08</td>\n",
       "    </tr>\n",
       "  </tbody>\n",
       "</table>\n",
       "</div>"
      ],
      "text/plain": [
       "      annual_consume\n",
       "year                \n",
       "2010    1.803985e+08\n",
       "2011    1.817192e+08\n",
       "2012    1.928442e+08\n",
       "2013    1.959069e+08\n",
       "2014    1.906245e+08\n",
       "2015    1.840054e+08\n",
       "2016    1.578030e+08\n",
       "2017    1.906399e+08\n",
       "2018    2.115056e+08\n",
       "2019    2.093344e+08"
      ]
     },
     "execution_count": 133,
     "metadata": {},
     "output_type": "execute_result"
    }
   ],
   "source": [
    "df_yearwise_gas=pd.DataFrame(df_total_gas.groupby('year').sum()['annual_consume'])\n",
    "df_yearwise_gas"
   ]
  },
  {
   "cell_type": "code",
   "execution_count": 134,
   "metadata": {},
   "outputs": [
    {
     "data": {
      "text/plain": [
       "Text(0, 0.5, 'Annual Consumption')"
      ]
     },
     "execution_count": 134,
     "metadata": {},
     "output_type": "execute_result"
    },
    {
     "data": {
      "image/png": "[encoded data removed]",
      "text/plain": [
       "<Figure size 432x288 with 1 Axes>"
      ]
     },
     "metadata": {
      "needs_background": "light"
     },
     "output_type": "display_data"
    }
   ],
   "source": [
    "columns=['year','total consume']\n",
    "plt.plot(df_yearwise_elect['annual_consume'],label='Electricity')\n",
    "plt.plot(df_yearwise_gas['annual_consume'],label='Gas')\n",
    "plt.legend()\n",
    "plt.title('Year Vs Annual Consumption')\n",
    "plt.xlabel('Year')\n",
    "plt.ylabel('Annual Consumption')"
   ]
  },
  {
   "cell_type": "code",
   "execution_count": null,
   "metadata": {},
   "outputs": [],
   "source": []
  }
 ],
 "metadata": {
  "kernelspec": {
   "display_name": "Python 3",
   "language": "python",
   "name": "python3"
  },
  "language_info": {
   "codemirror_mode": {
    "name": "ipython",
    "version": 3
   },
   "file_extension": ".py",
   "mimetype": "text/x-python",
   "name": "python",
   "nbconvert_exporter": "python",
   "pygments_lexer": "ipython3",
   "version": "3.7.5"
  }
 },
 "nbformat": 4,
 "nbformat_minor": 4
}
