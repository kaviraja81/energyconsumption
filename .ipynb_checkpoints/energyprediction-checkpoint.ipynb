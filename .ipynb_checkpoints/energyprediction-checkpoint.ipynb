{
 "cells": [
  {
   "cell_type": "code",
   "execution_count": 10,
   "metadata": {},
   "outputs": [],
   "source": [
    "import pandas as pd\n",
    "import numpy as np \n",
    "import matplotlib.pyplot as plt\n",
    "import matplotlib.colors as mcolors\n",
    "\n",
    " \n",
    "from sklearn.metrics import mean_squared_error,r2_score\n",
    "from sklearn.linear_model  import Ridge,Lasso,RidgeCV, LassoCV, ElasticNet, ElasticNetCV, LinearRegression\n",
    "from sklearn.ensemble import RandomForestRegressor\n",
    "from sklearn.tree import DecisionTreeRegressor\n",
    "from sklearn.preprocessing import PolynomialFeatures\n",
    "from sklearn.preprocessing import StandardScaler \n",
    "\n",
    "import seaborn as sns\n",
    "import os \n",
    "import math"
   ]
  },
  {
   "cell_type": "raw",
   "metadata": {},
   "source": [
    "basepath='./enexis'\n",
    "\n",
    "def loaddata(service_prov,folder):\n",
    "    l1=[]\n",
    "    subfolder=os.path.join(basepath,service_prov,folder)\n",
    "    print(subfolder)\n",
    "    for file in os.listdir(subfolder): \n",
    "        filedf=pd.read_csv(os.path.join(subfolder,file))\n",
    "     #   print(file)\n",
    "        year=file.split('.')[0][-4:]\n",
    "        filedf['year']=int(year)\n",
    "        filedf['year'].astype('int64')\n",
    "        l1.append(filedf)\n",
    "    dflist=pd.concat(l1)\n",
    "    return dflist "
   ]
  },
  {
   "cell_type": "code",
   "execution_count": 11,
   "metadata": {},
   "outputs": [
    {
     "ename": "NameError",
     "evalue": "name 'loaddata' is not defined",
     "output_type": "error",
     "traceback": [
      "\u001b[1;31m---------------------------------------------------------------------------\u001b[0m",
      "\u001b[1;31mNameError\u001b[0m                                 Traceback (most recent call last)",
      "\u001b[1;32m<ipython-input-11-2b33d4255686>\u001b[0m in \u001b[0;36m<module>\u001b[1;34m\u001b[0m\n\u001b[1;32m----> 1\u001b[1;33m \u001b[0mdf_enexis_gas_train\u001b[0m\u001b[1;33m=\u001b[0m\u001b[0mloaddata\u001b[0m\u001b[1;33m(\u001b[0m\u001b[1;34m'gas1'\u001b[0m\u001b[1;33m,\u001b[0m\u001b[1;34m'train'\u001b[0m\u001b[1;33m)\u001b[0m\u001b[1;33m\u001b[0m\u001b[1;33m\u001b[0m\u001b[0m\n\u001b[0m\u001b[0;32m      2\u001b[0m \u001b[0mdf_enexis_gas_test\u001b[0m\u001b[1;33m=\u001b[0m\u001b[0mloaddata\u001b[0m\u001b[1;33m(\u001b[0m\u001b[1;34m'gas1'\u001b[0m\u001b[1;33m,\u001b[0m\u001b[1;34m'test'\u001b[0m\u001b[1;33m)\u001b[0m\u001b[1;33m\u001b[0m\u001b[1;33m\u001b[0m\u001b[0m\n",
      "\u001b[1;31mNameError\u001b[0m: name 'loaddata' is not defined"
     ]
    }
   ],
   "source": [
    "df_enexis_gas_train=loaddata('gas1','train')\n",
    "df_enexis_gas_test=loaddata('gas1','test')"
   ]
  },
  {
   "cell_type": "code",
   "execution_count": null,
   "metadata": {},
   "outputs": [],
   "source": [
    "df_enexis_train=loaddata('elect','train')\n",
    "df_enexis_test=loaddata('elect','test')\n",
    "df_enexis_train"
   ]
  },
  {
   "cell_type": "code",
   "execution_count": null,
   "metadata": {},
   "outputs": [],
   "source": [
    "df_enexis_test"
   ]
  },
  {
   "cell_type": "code",
   "execution_count": null,
   "metadata": {},
   "outputs": [],
   "source": [
    "df_enexis_train.describe()"
   ]
  },
  {
   "cell_type": "code",
   "execution_count": null,
   "metadata": {},
   "outputs": [],
   "source": [
    "df_enexis_test.describe()"
   ]
  },
  {
   "cell_type": "code",
   "execution_count": null,
   "metadata": {},
   "outputs": [],
   "source": [
    "df_enexis_train.info()"
   ]
  },
  {
   "cell_type": "code",
   "execution_count": null,
   "metadata": {},
   "outputs": [],
   "source": [
    "df_enexis_test.info()"
   ]
  },
  {
   "cell_type": "code",
   "execution_count": null,
   "metadata": {},
   "outputs": [],
   "source": [
    "df_enexis_train.isnull().sum()"
   ]
  },
  {
   "cell_type": "code",
   "execution_count": 8,
   "metadata": {},
   "outputs": [
    {
     "ename": "NameError",
     "evalue": "name 'df_enexis_test' is not defined",
     "output_type": "error",
     "traceback": [
      "\u001b[1;31m---------------------------------------------------------------------------\u001b[0m",
      "\u001b[1;31mNameError\u001b[0m                                 Traceback (most recent call last)",
      "\u001b[1;32m<ipython-input-8-39af74a6ca5e>\u001b[0m in \u001b[0;36m<module>\u001b[1;34m\u001b[0m\n\u001b[1;32m----> 1\u001b[1;33m \u001b[0mdf_enexis_test\u001b[0m\u001b[1;33m.\u001b[0m\u001b[0misnull\u001b[0m\u001b[1;33m(\u001b[0m\u001b[1;33m)\u001b[0m\u001b[1;33m.\u001b[0m\u001b[0msum\u001b[0m\u001b[1;33m(\u001b[0m\u001b[1;33m)\u001b[0m\u001b[1;33m\u001b[0m\u001b[1;33m\u001b[0m\u001b[0m\n\u001b[0m",
      "\u001b[1;31mNameError\u001b[0m: name 'df_enexis_test' is not defined"
     ]
    }
   ],
   "source": [
    "df_enexis_test.isnull().sum()"
   ]
  },
  {
   "cell_type": "code",
   "execution_count": null,
   "metadata": {},
   "outputs": [],
   "source": [
    "df_enexis_train.type_of_connection.unique()"
   ]
  },
  {
   "cell_type": "code",
   "execution_count": null,
   "metadata": {},
   "outputs": [],
   "source": [
    "df_enexis_train[df_enexis_train.isnull().type_of_connection==True]"
   ]
  },
  {
   "cell_type": "code",
   "execution_count": null,
   "metadata": {},
   "outputs": [],
   "source": [
    "df_enexis_train['type_of_connection']=df_enexis_train['type_of_connection'].str.replace('x','X')\n",
    "df_enexis_test['type_of_connection']=df_enexis_test['type_of_connection'].str.replace('x','X')"
   ]
  },
  {
   "cell_type": "code",
   "execution_count": null,
   "metadata": {},
   "outputs": [],
   "source": [
    "df_enexis_train['type_of_connection'].value_counts()"
   ]
  },
  {
   "cell_type": "code",
   "execution_count": null,
   "metadata": {},
   "outputs": [],
   "source": [
    "df_enexis_test['type_of_connection'].value_counts()"
   ]
  },
  {
   "cell_type": "code",
   "execution_count": null,
   "metadata": {},
   "outputs": [],
   "source": [
    "df_enexis_train['type_of_connection'].fillna('1X35',inplace=True)\n",
    "df_enexis_test['type_of_connection'].fillna('1X35',inplace=True)\n"
   ]
  },
  {
   "cell_type": "code",
   "execution_count": null,
   "metadata": {},
   "outputs": [],
   "source": [
    "df_enexis_train.isnull().sum()"
   ]
  },
  {
   "cell_type": "code",
   "execution_count": null,
   "metadata": {},
   "outputs": [],
   "source": [
    "val=df_enexis_train[df_enexis_train['type_of_connection']=='1X35']['type_conn_perc'].mode()\n",
    "df_enexis_train['type_conn_perc'].fillna(value=100,inplace=True)\n",
    "df_enexis_test['type_conn_perc'].fillna(value=100,inplace=True)"
   ]
  },
  {
   "cell_type": "code",
   "execution_count": null,
   "metadata": {},
   "outputs": [],
   "source": [
    "df_enexis_train.isnull().sum()"
   ]
  },
  {
   "cell_type": "code",
   "execution_count": null,
   "metadata": {},
   "outputs": [],
   "source": [
    "df_enexis_test.isnull().sum()"
   ]
  },
  {
   "cell_type": "code",
   "execution_count": null,
   "metadata": {},
   "outputs": [],
   "source": [
    "df_enexis_test.dropna(inplace=True)"
   ]
  },
  {
   "cell_type": "code",
   "execution_count": null,
   "metadata": {},
   "outputs": [],
   "source": [
    "df_total=np.vstack((df_enexis_train,df_enexis_test))\n",
    "df_total=pd.DataFrame(df_total)\n",
    "df_total.columns=df_enexis_test.columns"
   ]
  },
  {
   "cell_type": "code",
   "execution_count": null,
   "metadata": {},
   "outputs": [],
   "source": [
    "df_total_gas=np.vstack((df_enexis_gas_train,df_enexis_gas_test))\n",
    "df_total_gas=pd.DataFrame(df_total_gas)\n",
    "df_total_gas.columns=df_enexis_gas_test.columns"
   ]
  },
  {
   "cell_type": "code",
   "execution_count": null,
   "metadata": {},
   "outputs": [],
   "source": [
    "df_total=df_total.convert_dtypes()\n",
    "df_total.dtypes"
   ]
  },
  {
   "cell_type": "markdown",
   "metadata": {},
   "source": [
    "## Numeric variables are plotted as boxplot . Outliers are identified"
   ]
  },
  {
   "cell_type": "code",
   "execution_count": null,
   "metadata": {},
   "outputs": [],
   "source": [
    "cols=[col for col in df_enexis_test.select_dtypes(exclude=['object']).copy()]\n",
    "fig = plt.figure(figsize=(16,16))\n",
    "index=1\n",
    "for col  in cols :\n",
    "    \n",
    "    plt.subplot(6,4,index+1)\n",
    "    index+=1\n",
    "    sns.boxplot(data=df_total,y=col)\n"
   ]
  },
  {
   "cell_type": "code",
   "execution_count": null,
   "metadata": {},
   "outputs": [],
   "source": [
    "cols"
   ]
  },
  {
   "cell_type": "code",
   "execution_count": null,
   "metadata": {},
   "outputs": [],
   "source": [
    "df_total.perc_of_active_connections.unique()"
   ]
  },
  {
   "cell_type": "markdown",
   "metadata": {},
   "source": [
    "### Only a single value for perc_of_active_connections and hence can be removed"
   ]
  },
  {
   "cell_type": "code",
   "execution_count": null,
   "metadata": {},
   "outputs": [],
   "source": [
    "df_total.describe().T"
   ]
  },
  {
   "cell_type": "code",
   "execution_count": null,
   "metadata": {},
   "outputs": [],
   "source": [
    "df_total.type_conn_perc.unique()"
   ]
  },
  {
   "cell_type": "code",
   "execution_count": null,
   "metadata": {},
   "outputs": [],
   "source": [
    "df_total[((df_total['annual_consume'] > 20000) == True)]"
   ]
  },
  {
   "cell_type": "code",
   "execution_count": null,
   "metadata": {},
   "outputs": [],
   "source": [
    "df_enexis_train_try=df_enexis_train[((df_enexis_train['annual_consume'] <= 20000) == True)]"
   ]
  },
  {
   "cell_type": "code",
   "execution_count": null,
   "metadata": {},
   "outputs": [],
   "source": [
    "df_enexis_train_try.dtypes"
   ]
  },
  {
   "cell_type": "code",
   "execution_count": null,
   "metadata": {},
   "outputs": [],
   "source": [
    "df_total.num_connections.describe().T"
   ]
  },
  {
   "cell_type": "code",
   "execution_count": null,
   "metadata": {},
   "outputs": [],
   "source": [
    "#cols=[col for col in df_enexis_test.select_dtypes(exclude=['object']).copy()]\n",
    "fig = plt.figure(figsize=(16,16))\n",
    "index=1\n",
    "for col  in cols :\n",
    "    \n",
    "    plt.subplot(6,4,index+1)\n",
    "    index+=1\n",
    "    sns.distplot(df_total[col],kde=False)\n"
   ]
  },
  {
   "cell_type": "code",
   "execution_count": null,
   "metadata": {},
   "outputs": [],
   "source": [
    "sns.pairplot(df_total,vars=['annual_consume','delivery_perc'])\n",
    "#df_total[:1000]"
   ]
  },
  {
   "cell_type": "code",
   "execution_count": null,
   "metadata": {},
   "outputs": [],
   "source": [
    "sns.pairplot(df_total,vars=['annual_consume','city'])\n"
   ]
  },
  {
   "cell_type": "code",
   "execution_count": null,
   "metadata": {},
   "outputs": [],
   "source": [
    "sns.pairplot(df_total,vars=['annual_consume','year'])\n"
   ]
  },
  {
   "cell_type": "code",
   "execution_count": null,
   "metadata": {},
   "outputs": [],
   "source": [
    "corrval=df_total.corr()\n",
    "fig,ax=plt.subplots()\n",
    "sns.heatmap(corrval,cmap=\"coolwarm\",ax=ax,fmt='.2f',annot=True,linewidths=.05)\n",
    "corrval.annual_consume"
   ]
  },
  {
   "cell_type": "code",
   "execution_count": null,
   "metadata": {},
   "outputs": [],
   "source": [
    "print(corrval)"
   ]
  },
  {
   "cell_type": "markdown",
   "metadata": {},
   "source": [
    "## Included the Number of smart meters instead of just using hte smart meter percentage"
   ]
  },
  {
   "cell_type": "code",
   "execution_count": null,
   "metadata": {},
   "outputs": [],
   "source": [
    "df_enexis_train['no_of_smart_meter']=df_enexis_train['smartmeter_perc']*df_enexis_train['num_connections']/100\n",
    "df_enexis_train['no_of_smart_meter']=df_enexis_train['smartmeter_perc']*df_enexis_train['num_connections']/100 \n",
    "df_enexis_test['no_of_smart_meter']=df_enexis_test['smartmeter_perc']*df_enexis_test['num_connections']/100\n",
    "df_enexis_test['no_of_smart_meter']=df_enexis_test['smartmeter_perc']*df_enexis_test['num_connections']/100 \n",
    "df_total['no_of_smart_meter']=df_total['smartmeter_perc']*df_total['num_connections']/100"
   ]
  },
  {
   "cell_type": "code",
   "execution_count": null,
   "metadata": {},
   "outputs": [],
   "source": [
    "df_enexis_train_try['no_of_smart_meter']=df_enexis_train_try['smartmeter_perc']*df_enexis_train_try['num_connections']/100\n",
    "df_enexis_train_try['no_of_smart_meter']=df_enexis_train_try['smartmeter_perc']*df_enexis_train_try['num_connections']/100 "
   ]
  },
  {
   "cell_type": "markdown",
   "metadata": {},
   "source": [
    "## Included city as category to see if there is correlation "
   ]
  },
  {
   "cell_type": "code",
   "execution_count": null,
   "metadata": {},
   "outputs": [],
   "source": [
    "uniqueconn=df_total['type_of_connection'].unique()\n",
    "uniqueconn\n",
    "categno= np.arange(0,len(uniqueconn))\n",
    "df_total['typeofconncateg']=df_total['type_of_connection'].replace(to_replace=uniqueconn, value=categno)"
   ]
  },
  {
   "cell_type": "code",
   "execution_count": null,
   "metadata": {},
   "outputs": [],
   "source": [
    "df_enexis_test['typeofconncateg']=df_enexis_test['type_of_connection'].replace(to_replace=uniqueconn, value=categno)\n",
    "df_enexis_train['typeofconncateg']=df_enexis_train['type_of_connection'].replace(to_replace=uniqueconn, value=categno)\n",
    "df_enexis_train_try['typeofconncateg']=df_enexis_train_try['type_of_connection'].replace(to_replace=uniqueconn, value=categno)\n"
   ]
  },
  {
   "cell_type": "code",
   "execution_count": null,
   "metadata": {},
   "outputs": [],
   "source": [
    "df_total['city']=df_total['city'].astype('category')\n",
    "df_total['city_cat']=df_total['city'].cat.codes\n",
    "df_enexis_train['city']=df_enexis_train['city'].astype('category')\n",
    "df_enexis_test['city']=df_enexis_test['city'].astype('category')\n",
    "df_enexis_train['city_cat']=df_enexis_train['city'].cat.codes\n",
    "df_enexis_test['city_cat']=df_enexis_test['city'].cat.codes\n"
   ]
  },
  {
   "cell_type": "code",
   "execution_count": null,
   "metadata": {},
   "outputs": [],
   "source": [
    "corrval=df_total.corr()\n",
    "fig,ax=plt.subplots()\n",
    "sns.heatmap(corrval,cmap=\"coolwarm\",ax=ax,fmt='.2f',annot=True,linewidths=.05)\n",
    "#corrval['annual_consume']"
   ]
  },
  {
   "cell_type": "markdown",
   "metadata": {},
   "source": [
    "## Inference from correlation\n",
    "As seen in the correlation map, the city  has very less correlation with annual consumption . Hence this field is removed. \n",
    "The type of connection had a correlation of 0.22 and hence that field is retained. The number of smart meter "
   ]
  },
  {
   "cell_type": "code",
   "execution_count": null,
   "metadata": {},
   "outputs": [],
   "source": [
    "sns.scatterplot(df_total['typeofconncateg'],df_total['annual_consume'])"
   ]
  },
  {
   "cell_type": "code",
   "execution_count": null,
   "metadata": {},
   "outputs": [],
   "source": [
    "sns.scatterplot(df_total['type_conn_perc'],df_total['annual_consume'])"
   ]
  },
  {
   "cell_type": "code",
   "execution_count": null,
   "metadata": {},
   "outputs": [],
   "source": [
    "sns.scatterplot(df_total['delivery_perc'],df_total['annual_consume'])"
   ]
  },
  {
   "cell_type": "code",
   "execution_count": null,
   "metadata": {},
   "outputs": [],
   "source": [
    "df_enexis_test.drop(columns=['net_manager','street','city'],inplace=True)\n",
    "df_enexis_test.drop(columns=['type_of_connection','city_cat'],inplace=True)\n",
    "df_enexis_test.drop(columns=['purchase_area','zipcode_from','zipcode_to'],inplace=True)\n",
    "df_enexis_train.drop(columns=['net_manager','street','city'],inplace=True)\n",
    "df_enexis_train.drop(columns=['type_of_connection','city_cat'],inplace=True)\n",
    "df_enexis_train.drop(columns=['purchase_area','zipcode_from','zipcode_to'],inplace=True)\n",
    "df_enexis_train.drop(columns=['perc_of_active_connections'],inplace=True)\n",
    "df_enexis_test.drop(columns=['perc_of_active_connections'],inplace=True)\n"
   ]
  },
  {
   "cell_type": "code",
   "execution_count": null,
   "metadata": {},
   "outputs": [],
   "source": [
    "#df_enexis_train_try.drop(columns=['net_manager','street','city'],inplace=True)\n",
    "df_enexis_train_try.drop(columns=['type_of_connection'],inplace=True)\n",
    "df_enexis_train_try.drop(columns=['purchase_area','zipcode_from','zipcode_to'],inplace=True)\n",
    "df_enexis_train_try.drop(columns=['perc_of_active_connections'],inplace=True)\n"
   ]
  },
  {
   "cell_type": "code",
   "execution_count": null,
   "metadata": {},
   "outputs": [],
   "source": [
    "X_train = df_enexis_train.iloc[:,df_enexis_train.columns != 'annual_consume'].values\n",
    "Y_train=df_enexis_train.iloc[:,df_enexis_train.columns == 'annual_consume'].values\n",
    "x_test = df_enexis_test.iloc[:,df_enexis_test.columns != 'annual_consume'].values\n",
    "y_test=df_enexis_test.iloc[:,df_enexis_test.columns == 'annual_consume'].values\n"
   ]
  },
  {
   "cell_type": "code",
   "execution_count": null,
   "metadata": {},
   "outputs": [],
   "source": [
    "X_train = df_enexis_train_try.iloc[:,df_enexis_train.columns != 'annual_consume'].values\n",
    "Y_train=df_enexis_train_try.iloc[:,df_enexis_train.columns == 'annual_consume'].values"
   ]
  },
  {
   "cell_type": "code",
   "execution_count": null,
   "metadata": {},
   "outputs": [],
   "source": [
    "df_enexis_test.columns"
   ]
  },
  {
   "cell_type": "code",
   "execution_count": null,
   "metadata": {},
   "outputs": [],
   "source": [
    "X_train.shape"
   ]
  },
  {
   "cell_type": "code",
   "execution_count": null,
   "metadata": {},
   "outputs": [],
   "source": [
    "\n",
    "sc=StandardScaler()\n",
    "X_train=sc.fit_transform(X_train)\n",
    "x_test=sc.transform(x_test)\n",
    "#x_poly=sc.fit_transform(x_poly)"
   ]
  },
  {
   "cell_type": "code",
   "execution_count": null,
   "metadata": {},
   "outputs": [],
   "source": [
    "\n",
    "linrregrmodel=LinearRegression()\n",
    "linrregrmodel.fit(X_train,Y_train)\n",
    "\n",
    "ypred=linrregrmodel.predict(X_train)\n",
    "print(\"RMSE\",math.sqrt(mean_squared_error(ypred,Y_train)))\n",
    "print(\"R2 Score\",r2_score(ypred,Y_train))\n",
    "ytest_pred=linrregrmodel.predict(x_test)\n",
    "print(\"RMSE for test data\",math.sqrt(mean_squared_error(ytest_pred,y_test)))\n",
    "print(\"Score\",linrregrmodel.score(x_test,y_test))"
   ]
  },
  {
   "cell_type": "code",
   "execution_count": null,
   "metadata": {
    "scrolled": false
   },
   "outputs": [],
   "source": [
    "lasscv = LassoCV(alphas = None,cv =10, max_iter = 100000, normalize = True)\n",
    "lasscv.fit(X_train, Y_train)"
   ]
  },
  {
   "cell_type": "code",
   "execution_count": null,
   "metadata": {},
   "outputs": [],
   "source": [
    "# best alpha parameter\n",
    "alpha = lasscv.alpha_\n",
    "alpha"
   ]
  },
  {
   "cell_type": "code",
   "execution_count": null,
   "metadata": {},
   "outputs": [],
   "source": [
    "lasso_reg = Lasso(alpha)\n",
    "lasso_reg.fit(X_train, Y_train)"
   ]
  },
  {
   "cell_type": "code",
   "execution_count": null,
   "metadata": {},
   "outputs": [],
   "source": [
    "lasso_reg.score(x_test, y_test)"
   ]
  },
  {
   "cell_type": "code",
   "execution_count": null,
   "metadata": {},
   "outputs": [],
   "source": [
    "alphas = np.random.uniform(low=0, high=10, size=(50,))\n",
    "ridgecv = RidgeCV(alphas = alphas,cv=10,normalize = True)\n",
    "ridgecv.fit(X_train, Y_train)\n",
    "ridge_model = Ridge(alpha=ridgecv.alpha_)\n",
    "ridge_model.fit(X_train, Y_train)\n",
    "ridge_model.score(x_test, y_test)"
   ]
  },
  {
   "cell_type": "code",
   "execution_count": null,
   "metadata": {},
   "outputs": [],
   "source": [
    "ypred_ridge=ridge_model.predict(X_train)\n",
    "print(\"RMSE is\",math.sqrt(mean_squared_error(ypred_ridge,Y_train)))"
   ]
  },
  {
   "cell_type": "code",
   "execution_count": null,
   "metadata": {},
   "outputs": [],
   "source": [
    "elasticCV = ElasticNetCV(alphas = None, cv =10)\n",
    "\n",
    "elasticCV.fit(X_train, Y_train)\n",
    "elasticnet_reg = ElasticNet(alpha = elasticCV.alpha_,l1_ratio=elasticCV.l1_ratio)\n",
    "elasticnet_reg.fit(X_train, Y_train)\n",
    "elasticnet_reg.score(x_test, y_test)"
   ]
  },
  {
   "cell_type": "code",
   "execution_count": null,
   "metadata": {},
   "outputs": [],
   "source": [
    "\n",
    "polynomial_features= PolynomialFeatures(degree=2)\n",
    "x_poly = polynomial_features.fit_transform(X_train)\n",
    "x_test_poly = polynomial_features.fit_transform(x_test)\n",
    "\n",
    "x_poly.shape\n"
   ]
  },
  {
   "cell_type": "code",
   "execution_count": null,
   "metadata": {},
   "outputs": [],
   "source": [
    "\n",
    "sc1=StandardScaler()\n",
    "x_train_poly=sc1.fit_transform(x_poly)\n",
    "x_test_poly=sc1.transform(x_test_poly)\n",
    "#x_poly=sc.fit_transform(x_poly)"
   ]
  },
  {
   "cell_type": "code",
   "execution_count": null,
   "metadata": {},
   "outputs": [],
   "source": [
    "polyregr=LinearRegression()\n",
    "polyregr.fit(x_train_poly,Y_train)\n",
    "\n",
    "ypred=polyregr.predict(x_train_poly)\n",
    "print(\"RMSE\",math.sqrt(mean_squared_error(ypred,Y_train)))\n",
    "print(\"R2 Score\",r2_score(ypred,Y_train))\n",
    "ytest_pred=polyregr.predict(x_test_poly)\n",
    "print(\"RMSE for test data\",math.sqrt(mean_squared_error(ytest_pred,y_test)))\n",
    "print(\"Score\",polyregr.score(x_test_poly,y_test))"
   ]
  },
  {
   "cell_type": "code",
   "execution_count": null,
   "metadata": {},
   "outputs": [],
   "source": [
    "\n",
    "regr=RandomForestRegressor()\n",
    "regr.fit(X_train,Y_train)\n",
    "ypred=regr.predict(X_train)\n",
    "print(\"RMSE\",math.sqrt(mean_squared_error(ypred,Y_train)))\n",
    "print(\"R2 Score\",r2_score(ypred,Y_train))\n",
    "regr.score(x_test,y_test)\n",
    "Y_pred=regr.predict(x_test)"
   ]
  },
  {
   "cell_type": "code",
   "execution_count": null,
   "metadata": {},
   "outputs": [],
   "source": [
    "Y_pred=regr.predict(x_test)\n",
    "print(\"RMSE\",math.sqrt(mean_squared_error(Y_pred,y_test)))\n",
    "print(\"Score is \",regr.score(x_test,y_test))\n"
   ]
  },
  {
   "cell_type": "code",
   "execution_count": null,
   "metadata": {},
   "outputs": [],
   "source": [
    "plt.scatter(Y_pred,y_test)\n",
    "plt.xlabel(\"Predicted Value\")\n",
    "plt.ylabel(\"Actual Value \")\n",
    "plt.title(\"Y_pred Vs y_test\")"
   ]
  },
  {
   "cell_type": "code",
   "execution_count": null,
   "metadata": {},
   "outputs": [],
   "source": [
    "\n",
    "for i in range(16,40):\n",
    "    dectree=DecisionTreeRegressor(max_depth=i)\n",
    "    dectree.fit(X_train,Y_train)\n",
    "    ytrain_pred=dectree.predict(X_train)\n",
    "    print(i,np.sqrt(mean_squared_error(ytrain_pred,Y_train)),dectree.score(x_test,y_test))"
   ]
  },
  {
   "cell_type": "code",
   "execution_count": null,
   "metadata": {},
   "outputs": [],
   "source": [
    "\n",
    "for i in range(16,40):\n",
    "    dectree=DecisionTreeRegressor(max_depth=i)\n",
    "    dectree.fit(X_train,Y_train)\n",
    "    ytrain_pred=dectree.predict(X_train)\n",
    "    print(i,np.sqrt(mean_squared_error(ytrain_pred,Y_train)),r2_score(ytrain_pred,Y_train))"
   ]
  },
  {
   "cell_type": "code",
   "execution_count": null,
   "metadata": {},
   "outputs": [],
   "source": [
    "dectreefin=DecisionTreeRegressor(max_depth=15)\n",
    "dectreefin.fit(X_train,Y_train)\n",
    "y_pred_train=dectreefin.predict(X_train)\n",
    "y_pred_dec=dectreefin.predict(x_test)\n",
    "print(\"R2 score is \",r2_score(y_pred_train,Y_train))\n",
    "print(\"RMSE for testing data \",math.sqrt(mean_squared_error(y_pred_dec,y_test)))\n",
    "print(\"Score is \",dectreefin.score(x_test,y_test))\n",
    "print(\"R2 score for test data is\", r2_score(y_pred_dec,y_test))"
   ]
  },
  {
   "cell_type": "code",
   "execution_count": null,
   "metadata": {},
   "outputs": [],
   "source": [
    "df_yearwise_elect=pd.DataFrame(df_total.groupby('year').sum()['annual_consume'])\n",
    "df_yearwise_elect"
   ]
  },
  {
   "cell_type": "code",
   "execution_count": null,
   "metadata": {},
   "outputs": [],
   "source": [
    "columns=['year','total consume']\n",
    "plt.subplots()\n",
    "plt.plot(df_yearwise_elect['annual_consume'])\n",
    "plt.title('Year Vs Annual Consumption')\n",
    "plt.xlabel('Year')\n",
    "plt.ylabel('Annual Consumption')"
   ]
  },
  {
   "cell_type": "code",
   "execution_count": null,
   "metadata": {},
   "outputs": [],
   "source": [
    "Y_pred.reshape(-1,1)"
   ]
  },
  {
   "cell_type": "code",
   "execution_count": null,
   "metadata": {},
   "outputs": [],
   "source": [
    "datacomb=pd.DataFrame(np.hstack((df_enexis_test.drop(columns=('annual_consume')),Y_pred.reshape(-1,1))))\n",
    "#collist=df_enexis_test.columns\n",
    "collist=['num_connections', 'delivery_perc', 'type_conn_perc',\n",
    "       'annual_consume_lowtarif_perc', 'smartmeter_perc', 'year',\n",
    "       'no_of_smart_meter', 'typeofconncateg','annual_consume']\n",
    "datacomb.columns=collist\n",
    "df_year_pred_anlcons=pd.DataFrame(datacomb.groupby('year').sum()['annual_consume'])"
   ]
  },
  {
   "cell_type": "code",
   "execution_count": null,
   "metadata": {},
   "outputs": [],
   "source": [
    "df_year_actual_anlcons=pd.DataFrame(df_enexis_test.groupby('year').sum()['annual_consume'])\n",
    "actlist=[]\n",
    "actlist.append(df_year_actual_anlcons['annual_consume'][2018])\n",
    "actlist.append(df_year_actual_anlcons['annual_consume'][2019])\n",
    "yearlst=['2018','2019']\n",
    "predlist=[]\n",
    "predlist.append(df_year_pred_anlcons['annual_consume'][2018])\n",
    "predlist.append(df_year_pred_anlcons['annual_consume'][2019]) \n",
    "dmap={'yearlst':yearlst,'act_cons':actlist,'pred_cons': predlist}\n",
    "df=pd.DataFrame(dmap)\n",
    "df"
   ]
  },
  {
   "cell_type": "code",
   "execution_count": null,
   "metadata": {},
   "outputs": [],
   "source": [
    "fig = plt.figure(figsize=(16,16))\n",
    "plt.subplots()\n",
    "p1=plt.bar(yearlst,actlist,color='tab:orange')\n",
    "p2=plt.bar(yearlst,predlist,color='tab:blue')\n",
    "plt.title(\"Year wise consumption \")\n",
    "plt.xlabel(\"Year\")\n",
    "plt.ylabel(\"Annual Consumption\")\n",
    "plt.legend((p1[0],p2[0]),(\"Actual\",\"Predicted\"),loc='center')\n"
   ]
  },
  {
   "cell_type": "code",
   "execution_count": null,
   "metadata": {},
   "outputs": [],
   "source": [
    "df_yearwise_gas=pd.DataFrame(df_total_gas.groupby('year').sum()['annual_consume'])\n",
    "df_yearwise_gas"
   ]
  },
  {
   "cell_type": "code",
   "execution_count": null,
   "metadata": {},
   "outputs": [],
   "source": [
    "columns=['year','total consume']\n",
    "plt.plot(df_yearwise_elect['annual_consume'],label='Electricity')\n",
    "plt.plot(df_yearwise_gas['annual_consume'],label='Gas')\n",
    "plt.legend()\n",
    "plt.title('Year Vs Annual Consumption')\n",
    "plt.xlabel('Year')\n",
    "plt.ylabel('Annual Consumption')"
   ]
  },
  {
   "cell_type": "code",
   "execution_count": null,
   "metadata": {},
   "outputs": [],
   "source": []
  }
 ],
 "metadata": {
  "kernelspec": {
   "display_name": "Python 3",
   "language": "python",
   "name": "python3"
  },
  "language_info": {
   "codemirror_mode": {
    "name": "ipython",
    "version": 3
   },
   "file_extension": ".py",
   "mimetype": "text/x-python",
   "name": "python",
   "nbconvert_exporter": "python",
   "pygments_lexer": "ipython3",
   "version": "3.7.5"
  }
 },
 "nbformat": 4,
 "nbformat_minor": 4
}
